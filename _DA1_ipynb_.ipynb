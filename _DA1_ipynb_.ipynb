{
  "nbformat": 4,
  "nbformat_minor": 0,
  "metadata": {
    "colab": {
      "provenance": []
    },
    "kernelspec": {
      "name": "python3",
      "display_name": "Python 3"
    }
  },
  "cells": [
    {
      "cell_type": "markdown",
      "source": [
        "# Упражнение 1. Работа с API"
      ],
      "metadata": {
        "id": "eynQNPljDZiT"
      }
    },
    {
      "cell_type": "markdown",
      "source": [
        "Есть проект \"Конструктор ОП\" http://op.itmo.ru"
      ],
      "metadata": {
        "id": "6FH2UAtHDh5-"
      }
    },
    {
      "cell_type": "markdown",
      "source": [
        "## Задание 1.0"
      ],
      "metadata": {
        "id": "uJlXlo3cHUsa"
      }
    },
    {
      "cell_type": "markdown",
      "source": [
        "Доступ к контенту появляется после регистрации. Можно войти через ИСУ, первый вход = регистрация. Для целей лабораторной работы можно либо создать пользователя, либо воспользоваться тестовым."
      ],
      "metadata": {
        "id": "hqccvQJPDsg4"
      }
    },
    {
      "cell_type": "markdown",
      "source": [
        "В процессе работы нужно будет получить данные по API. Собрать по этим данным датасет (например, можно воспользоваться библиотекой pandas). После провести первичный анализ и сделать визуализации."
      ],
      "metadata": {
        "id": "gpPRohnAD9Mn"
      }
    },
    {
      "cell_type": "code",
      "source": [
        "import requests\n",
        "import json\n",
        "import pandas as pd\n",
        "pd.set_option('max_colwidth', 120)\n",
        "pd.set_option('display.width', 500)\n",
        "url = \"https://op.itmo.ru/auth/token/login\"\n",
        "auth_data = {\"username\": \"analytic\", \"password\": \"datatest\"}\n",
        "token_txt = requests.post(url, auth_data).text\n",
        "token = json.loads(token_txt)[\"auth_token\"]\n",
        "headers = {'Content-Type': \"application/json\", 'Authorization': \"Token \" + token}"
      ],
      "metadata": {
        "id": "kh5UDrwnERH4"
      },
      "execution_count": null,
      "outputs": []
    },
    {
      "cell_type": "markdown",
      "source": [
        "## Задание 1.1 Получить идентификаторы всех учебных планов, имеющихся в op.itmo.ru"
      ],
      "metadata": {
        "id": "co5e9ZLAFFm7"
      }
    },
    {
      "cell_type": "markdown",
      "source": [
        "Для начала сделаем обработку данных с сайта, использующего пагинацию. Для этого итеративно просматриваем результат запроса на каждую из страниц, выводим номер страницы, число найденных планов, общее число найденных планов и записываем результаты в data."
      ],
      "metadata": {
        "id": "UbL_r0EP3Xk0"
      }
    },
    {
      "cell_type": "code",
      "source": [
        "import requests\n",
        "import re\n",
        "data = []\n",
        "regular = '(?<=page=)(.*)'\n",
        "url = 'http://op.itmo.ru/api/record/academic_plan/academic_wp_description/all?page=1'\n",
        "valid = True\n",
        "while valid:\n",
        "  log = ''\n",
        "  response = requests.get(url, headers=headers)\n",
        "  response_data = response.json()\n",
        "  log += f'Страница: {re.search(regular, url).group(1)} '\n",
        "  if (response_data['next'] != None):\n",
        "    url = response_data['next']\n",
        "  else:\n",
        "    valid = False\n",
        "  results = response_data['results']\n",
        "  log += f'Найдено планов: {len(results)} '\n",
        "  data.extend(results)\n",
        "  log += f'Всего планов: {len(data)}'\n",
        "  print(log)"
      ],
      "metadata": {
        "id": "80zwuQ24vL3U",
        "colab": {
          "base_uri": "https://localhost:8080/"
        },
        "outputId": "852252c1-0b13-43b0-9166-a39b7eecb8cc"
      },
      "execution_count": null,
      "outputs": [
        {
          "output_type": "stream",
          "name": "stdout",
          "text": [
            "Страница: 1 Найдено планов: 10 Всего планов: 10\n",
            "Страница: 2 Найдено планов: 10 Всего планов: 20\n",
            "Страница: 3 Найдено планов: 10 Всего планов: 30\n",
            "Страница: 4 Найдено планов: 10 Всего планов: 40\n",
            "Страница: 5 Найдено планов: 10 Всего планов: 50\n",
            "Страница: 6 Найдено планов: 10 Всего планов: 60\n",
            "Страница: 7 Найдено планов: 10 Всего планов: 70\n",
            "Страница: 8 Найдено планов: 10 Всего планов: 80\n",
            "Страница: 9 Найдено планов: 10 Всего планов: 90\n",
            "Страница: 10 Найдено планов: 10 Всего планов: 100\n",
            "Страница: 11 Найдено планов: 10 Всего планов: 110\n",
            "Страница: 12 Найдено планов: 10 Всего планов: 120\n",
            "Страница: 13 Найдено планов: 10 Всего планов: 130\n",
            "Страница: 14 Найдено планов: 10 Всего планов: 140\n",
            "Страница: 15 Найдено планов: 10 Всего планов: 150\n",
            "Страница: 16 Найдено планов: 10 Всего планов: 160\n",
            "Страница: 17 Найдено планов: 10 Всего планов: 170\n",
            "Страница: 18 Найдено планов: 10 Всего планов: 180\n",
            "Страница: 19 Найдено планов: 10 Всего планов: 190\n",
            "Страница: 20 Найдено планов: 10 Всего планов: 200\n",
            "Страница: 21 Найдено планов: 10 Всего планов: 210\n",
            "Страница: 22 Найдено планов: 10 Всего планов: 220\n",
            "Страница: 23 Найдено планов: 10 Всего планов: 230\n",
            "Страница: 24 Найдено планов: 10 Всего планов: 240\n",
            "Страница: 25 Найдено планов: 10 Всего планов: 250\n",
            "Страница: 26 Найдено планов: 10 Всего планов: 260\n",
            "Страница: 27 Найдено планов: 10 Всего планов: 270\n",
            "Страница: 28 Найдено планов: 10 Всего планов: 280\n",
            "Страница: 29 Найдено планов: 10 Всего планов: 290\n",
            "Страница: 30 Найдено планов: 10 Всего планов: 300\n",
            "Страница: 31 Найдено планов: 10 Всего планов: 310\n",
            "Страница: 32 Найдено планов: 10 Всего планов: 320\n",
            "Страница: 33 Найдено планов: 10 Всего планов: 330\n",
            "Страница: 34 Найдено планов: 10 Всего планов: 340\n",
            "Страница: 35 Найдено планов: 10 Всего планов: 350\n",
            "Страница: 36 Найдено планов: 10 Всего планов: 360\n",
            "Страница: 37 Найдено планов: 10 Всего планов: 370\n",
            "Страница: 38 Найдено планов: 10 Всего планов: 380\n",
            "Страница: 39 Найдено планов: 10 Всего планов: 390\n",
            "Страница: 40 Найдено планов: 10 Всего планов: 400\n",
            "Страница: 41 Найдено планов: 10 Всего планов: 410\n",
            "Страница: 42 Найдено планов: 10 Всего планов: 420\n",
            "Страница: 43 Найдено планов: 10 Всего планов: 430\n",
            "Страница: 44 Найдено планов: 10 Всего планов: 440\n",
            "Страница: 45 Найдено планов: 10 Всего планов: 450\n",
            "Страница: 46 Найдено планов: 10 Всего планов: 460\n",
            "Страница: 47 Найдено планов: 10 Всего планов: 470\n",
            "Страница: 48 Найдено планов: 10 Всего планов: 480\n",
            "Страница: 49 Найдено планов: 10 Всего планов: 490\n",
            "Страница: 50 Найдено планов: 10 Всего планов: 500\n",
            "Страница: 51 Найдено планов: 10 Всего планов: 510\n",
            "Страница: 52 Найдено планов: 10 Всего планов: 520\n",
            "Страница: 53 Найдено планов: 10 Всего планов: 530\n",
            "Страница: 54 Найдено планов: 10 Всего планов: 540\n",
            "Страница: 55 Найдено планов: 10 Всего планов: 550\n",
            "Страница: 56 Найдено планов: 10 Всего планов: 560\n",
            "Страница: 57 Найдено планов: 10 Всего планов: 570\n",
            "Страница: 58 Найдено планов: 10 Всего планов: 580\n",
            "Страница: 59 Найдено планов: 9 Всего планов: 589\n"
          ]
        }
      ]
    },
    {
      "cell_type": "markdown",
      "source": [
        "Выберем только id из каждой записи"
      ],
      "metadata": {
        "id": "togbQZak-3UH"
      }
    },
    {
      "cell_type": "code",
      "source": [
        "id_list = list(map(lambda element: { 'id': element['id'] }, data))"
      ],
      "metadata": {
        "id": "Rjn95UBxcCjv"
      },
      "execution_count": null,
      "outputs": []
    },
    {
      "cell_type": "markdown",
      "source": [
        "И преобразуем в dataframe"
      ],
      "metadata": {
        "id": "SuitTL_H-_Dt"
      }
    },
    {
      "cell_type": "code",
      "source": [
        "df = pd.DataFrame(id_list).reset_index(drop=True)"
      ],
      "metadata": {
        "id": "-C02s8bXdafn"
      },
      "execution_count": null,
      "outputs": []
    },
    {
      "cell_type": "markdown",
      "source": [
        "Выведем все полученные id планов"
      ],
      "metadata": {
        "id": "VQMc2gQf_D8W"
      }
    },
    {
      "cell_type": "code",
      "source": [
        "df"
      ],
      "metadata": {
        "colab": {
          "base_uri": "https://localhost:8080/",
          "height": 423
        },
        "id": "sthSO0VFciKF",
        "outputId": "4f3bca96-5fee-40d1-8b28-49ea0864fdc2"
      },
      "execution_count": null,
      "outputs": [
        {
          "output_type": "execute_result",
          "data": {
            "text/plain": [
              "       id\n",
              "0    6796\n",
              "1    6797\n",
              "2    6798\n",
              "3    6799\n",
              "4    6800\n",
              "..    ...\n",
              "584  7399\n",
              "585  7395\n",
              "586  7493\n",
              "587  7319\n",
              "588  7317\n",
              "\n",
              "[589 rows x 1 columns]"
            ],
            "text/html": [
              "\n",
              "  <div id=\"df-b72cfc55-052e-4b75-9116-674ee704999f\">\n",
              "    <div class=\"colab-df-container\">\n",
              "      <div>\n",
              "<style scoped>\n",
              "    .dataframe tbody tr th:only-of-type {\n",
              "        vertical-align: middle;\n",
              "    }\n",
              "\n",
              "    .dataframe tbody tr th {\n",
              "        vertical-align: top;\n",
              "    }\n",
              "\n",
              "    .dataframe thead th {\n",
              "        text-align: right;\n",
              "    }\n",
              "</style>\n",
              "<table border=\"1\" class=\"dataframe\">\n",
              "  <thead>\n",
              "    <tr style=\"text-align: right;\">\n",
              "      <th></th>\n",
              "      <th>id</th>\n",
              "    </tr>\n",
              "  </thead>\n",
              "  <tbody>\n",
              "    <tr>\n",
              "      <th>0</th>\n",
              "      <td>6796</td>\n",
              "    </tr>\n",
              "    <tr>\n",
              "      <th>1</th>\n",
              "      <td>6797</td>\n",
              "    </tr>\n",
              "    <tr>\n",
              "      <th>2</th>\n",
              "      <td>6798</td>\n",
              "    </tr>\n",
              "    <tr>\n",
              "      <th>3</th>\n",
              "      <td>6799</td>\n",
              "    </tr>\n",
              "    <tr>\n",
              "      <th>4</th>\n",
              "      <td>6800</td>\n",
              "    </tr>\n",
              "    <tr>\n",
              "      <th>...</th>\n",
              "      <td>...</td>\n",
              "    </tr>\n",
              "    <tr>\n",
              "      <th>584</th>\n",
              "      <td>7399</td>\n",
              "    </tr>\n",
              "    <tr>\n",
              "      <th>585</th>\n",
              "      <td>7395</td>\n",
              "    </tr>\n",
              "    <tr>\n",
              "      <th>586</th>\n",
              "      <td>7493</td>\n",
              "    </tr>\n",
              "    <tr>\n",
              "      <th>587</th>\n",
              "      <td>7319</td>\n",
              "    </tr>\n",
              "    <tr>\n",
              "      <th>588</th>\n",
              "      <td>7317</td>\n",
              "    </tr>\n",
              "  </tbody>\n",
              "</table>\n",
              "<p>589 rows × 1 columns</p>\n",
              "</div>\n",
              "      <button class=\"colab-df-convert\" onclick=\"convertToInteractive('df-b72cfc55-052e-4b75-9116-674ee704999f')\"\n",
              "              title=\"Convert this dataframe to an interactive table.\"\n",
              "              style=\"display:none;\">\n",
              "        \n",
              "  <svg xmlns=\"http://www.w3.org/2000/svg\" height=\"24px\"viewBox=\"0 0 24 24\"\n",
              "       width=\"24px\">\n",
              "    <path d=\"M0 0h24v24H0V0z\" fill=\"none\"/>\n",
              "    <path d=\"M18.56 5.44l.94 2.06.94-2.06 2.06-.94-2.06-.94-.94-2.06-.94 2.06-2.06.94zm-11 1L8.5 8.5l.94-2.06 2.06-.94-2.06-.94L8.5 2.5l-.94 2.06-2.06.94zm10 10l.94 2.06.94-2.06 2.06-.94-2.06-.94-.94-2.06-.94 2.06-2.06.94z\"/><path d=\"M17.41 7.96l-1.37-1.37c-.4-.4-.92-.59-1.43-.59-.52 0-1.04.2-1.43.59L10.3 9.45l-7.72 7.72c-.78.78-.78 2.05 0 2.83L4 21.41c.39.39.9.59 1.41.59.51 0 1.02-.2 1.41-.59l7.78-7.78 2.81-2.81c.8-.78.8-2.07 0-2.86zM5.41 20L4 18.59l7.72-7.72 1.47 1.35L5.41 20z\"/>\n",
              "  </svg>\n",
              "      </button>\n",
              "      \n",
              "  <style>\n",
              "    .colab-df-container {\n",
              "      display:flex;\n",
              "      flex-wrap:wrap;\n",
              "      gap: 12px;\n",
              "    }\n",
              "\n",
              "    .colab-df-convert {\n",
              "      background-color: #E8F0FE;\n",
              "      border: none;\n",
              "      border-radius: 50%;\n",
              "      cursor: pointer;\n",
              "      display: none;\n",
              "      fill: #1967D2;\n",
              "      height: 32px;\n",
              "      padding: 0 0 0 0;\n",
              "      width: 32px;\n",
              "    }\n",
              "\n",
              "    .colab-df-convert:hover {\n",
              "      background-color: #E2EBFA;\n",
              "      box-shadow: 0px 1px 2px rgba(60, 64, 67, 0.3), 0px 1px 3px 1px rgba(60, 64, 67, 0.15);\n",
              "      fill: #174EA6;\n",
              "    }\n",
              "\n",
              "    [theme=dark] .colab-df-convert {\n",
              "      background-color: #3B4455;\n",
              "      fill: #D2E3FC;\n",
              "    }\n",
              "\n",
              "    [theme=dark] .colab-df-convert:hover {\n",
              "      background-color: #434B5C;\n",
              "      box-shadow: 0px 1px 3px 1px rgba(0, 0, 0, 0.15);\n",
              "      filter: drop-shadow(0px 1px 2px rgba(0, 0, 0, 0.3));\n",
              "      fill: #FFFFFF;\n",
              "    }\n",
              "  </style>\n",
              "\n",
              "      <script>\n",
              "        const buttonEl =\n",
              "          document.querySelector('#df-b72cfc55-052e-4b75-9116-674ee704999f button.colab-df-convert');\n",
              "        buttonEl.style.display =\n",
              "          google.colab.kernel.accessAllowed ? 'block' : 'none';\n",
              "\n",
              "        async function convertToInteractive(key) {\n",
              "          const element = document.querySelector('#df-b72cfc55-052e-4b75-9116-674ee704999f');\n",
              "          const dataTable =\n",
              "            await google.colab.kernel.invokeFunction('convertToInteractive',\n",
              "                                                     [key], {});\n",
              "          if (!dataTable) return;\n",
              "\n",
              "          const docLinkHtml = 'Like what you see? Visit the ' +\n",
              "            '<a target=\"_blank\" href=https://colab.research.google.com/notebooks/data_table.ipynb>data table notebook</a>'\n",
              "            + ' to learn more about interactive tables.';\n",
              "          element.innerHTML = '';\n",
              "          dataTable['output_type'] = 'display_data';\n",
              "          await google.colab.output.renderOutput(dataTable, element);\n",
              "          const docLink = document.createElement('div');\n",
              "          docLink.innerHTML = docLinkHtml;\n",
              "          element.appendChild(docLink);\n",
              "        }\n",
              "      </script>\n",
              "    </div>\n",
              "  </div>\n",
              "  "
            ]
          },
          "metadata": {},
          "execution_count": 24
        }
      ]
    },
    {
      "cell_type": "markdown",
      "source": [
        "## Задание 1.2 По этим планам получить детальное описание"
      ],
      "metadata": {
        "id": "QInATqLvFX3Y"
      }
    },
    {
      "cell_type": "markdown",
      "source": [
        "Получим детальное описание для каждого плана по id из предыдущего шага и итеративно добавим в detail_data"
      ],
      "metadata": {
        "id": "PPrho3FX_Wiu"
      }
    },
    {
      "cell_type": "code",
      "source": [
        "import requests\n",
        "detail_data = []\n",
        "cnt = 0\n",
        "for element in id_list:\n",
        "  plan_id = element.get('id')\n",
        "  cnt += 1\n",
        "  # print(str(cnt) + ') Учебный план: ' + str(plan_id))\n",
        "  url = f'https://op.itmo.ru/api/academicplan/detail/{plan_id}'\n",
        "  response = requests.get(url)\n",
        "  detail_data.append(response.json())"
      ],
      "metadata": {
        "id": "Gh97rOMqeL9Y"
      },
      "execution_count": null,
      "outputs": []
    },
    {
      "cell_type": "markdown",
      "source": [
        "Преобразуем в dataframe, выделив поля, используемые далее, в отдельные столбцы (для элементов, чье значение может отсутствовать присутствует замена на None в случае строки и 0 в случае id)"
      ],
      "metadata": {
        "id": "s8Wb60jHtsA6"
      }
    },
    {
      "cell_type": "code",
      "source": [
        "df_details = [element.get('academic_plan_in_field_of_study')[0] for element in detail_data]\n",
        "df['study_id'] = [element['id'] for element in df_details]\n",
        "df['year'] = [element['year'] for element in df_details]\n",
        "df['qualification'] = [element['qualification'] for element in df_details]\n",
        "df['structural_isu_id'] = [int(element['structural_unit']['isu_id']) if element['structural_unit'] else 0 for element in df_details]\n",
        "df['structural_title'] = [element['structural_unit']['title'] if element['structural_unit'] else None for element in df_details]\n",
        "df['structural_short_name'] = [element['structural_unit']['short_name'] if element['structural_unit'] else None for element in df_details]\n",
        "df['on_check'] = [element['on_check'] for element in detail_data]\n",
        "df['was_send_to_isu'] = [element['was_send_to_isu'] for element in detail_data]\n",
        "df"
      ],
      "metadata": {
        "colab": {
          "base_uri": "https://localhost:8080/",
          "height": 423
        },
        "id": "29VqGLB4rFz7",
        "outputId": "2497d208-d45e-4e6a-f3b8-28d91862f2ae"
      },
      "execution_count": null,
      "outputs": [
        {
          "output_type": "execute_result",
          "data": {
            "text/plain": [
              "       id  study_id  year qualification  structural_isu_id                                        structural_title structural_short_name  on_check  was_send_to_isu\n",
              "0    6796      6859  2018      bachelor                  0                                                    None                  None   in_work            False\n",
              "1    6797      6860  2018      bachelor                  0                                                    None                  None   in_work            False\n",
              "2    6798      6861  2021        master                  0                                                    None                  None   in_work            False\n",
              "3    6799      6862  2018      bachelor                  0                                                    None                  None   in_work            False\n",
              "4    6800      6863  2018      bachelor                  0                                                    None                  None   in_work            False\n",
              "..    ...       ...   ...           ...                ...                                                     ...                   ...       ...              ...\n",
              "584  7399      7463  2023        master                761             факультет систем управления и робототехники               ФСУ и Р  verified             True\n",
              "585  7395      7459  2023        master                980                            химико-биологический кластер                   ХБК  verified             True\n",
              "586  7493      7646  2023      bachelor                776                        факультет цифровых трансформаций                   ФЦТ  verified             True\n",
              "587  7319      7383  2023      bachelor                762  факультет программной инженерии и компьютерной техники              ФПИ и КТ  verified             True\n",
              "588  7317      7381  2023      bachelor                734      факультет технологического менеджмента и инноваций                  ФТМИ  verified             True\n",
              "\n",
              "[589 rows x 9 columns]"
            ],
            "text/html": [
              "\n",
              "  <div id=\"df-b8833729-5223-4b35-a779-b0f9e32e4e3d\">\n",
              "    <div class=\"colab-df-container\">\n",
              "      <div>\n",
              "<style scoped>\n",
              "    .dataframe tbody tr th:only-of-type {\n",
              "        vertical-align: middle;\n",
              "    }\n",
              "\n",
              "    .dataframe tbody tr th {\n",
              "        vertical-align: top;\n",
              "    }\n",
              "\n",
              "    .dataframe thead th {\n",
              "        text-align: right;\n",
              "    }\n",
              "</style>\n",
              "<table border=\"1\" class=\"dataframe\">\n",
              "  <thead>\n",
              "    <tr style=\"text-align: right;\">\n",
              "      <th></th>\n",
              "      <th>id</th>\n",
              "      <th>study_id</th>\n",
              "      <th>year</th>\n",
              "      <th>qualification</th>\n",
              "      <th>structural_isu_id</th>\n",
              "      <th>structural_title</th>\n",
              "      <th>structural_short_name</th>\n",
              "      <th>on_check</th>\n",
              "      <th>was_send_to_isu</th>\n",
              "    </tr>\n",
              "  </thead>\n",
              "  <tbody>\n",
              "    <tr>\n",
              "      <th>0</th>\n",
              "      <td>6796</td>\n",
              "      <td>6859</td>\n",
              "      <td>2018</td>\n",
              "      <td>bachelor</td>\n",
              "      <td>0</td>\n",
              "      <td>None</td>\n",
              "      <td>None</td>\n",
              "      <td>in_work</td>\n",
              "      <td>False</td>\n",
              "    </tr>\n",
              "    <tr>\n",
              "      <th>1</th>\n",
              "      <td>6797</td>\n",
              "      <td>6860</td>\n",
              "      <td>2018</td>\n",
              "      <td>bachelor</td>\n",
              "      <td>0</td>\n",
              "      <td>None</td>\n",
              "      <td>None</td>\n",
              "      <td>in_work</td>\n",
              "      <td>False</td>\n",
              "    </tr>\n",
              "    <tr>\n",
              "      <th>2</th>\n",
              "      <td>6798</td>\n",
              "      <td>6861</td>\n",
              "      <td>2021</td>\n",
              "      <td>master</td>\n",
              "      <td>0</td>\n",
              "      <td>None</td>\n",
              "      <td>None</td>\n",
              "      <td>in_work</td>\n",
              "      <td>False</td>\n",
              "    </tr>\n",
              "    <tr>\n",
              "      <th>3</th>\n",
              "      <td>6799</td>\n",
              "      <td>6862</td>\n",
              "      <td>2018</td>\n",
              "      <td>bachelor</td>\n",
              "      <td>0</td>\n",
              "      <td>None</td>\n",
              "      <td>None</td>\n",
              "      <td>in_work</td>\n",
              "      <td>False</td>\n",
              "    </tr>\n",
              "    <tr>\n",
              "      <th>4</th>\n",
              "      <td>6800</td>\n",
              "      <td>6863</td>\n",
              "      <td>2018</td>\n",
              "      <td>bachelor</td>\n",
              "      <td>0</td>\n",
              "      <td>None</td>\n",
              "      <td>None</td>\n",
              "      <td>in_work</td>\n",
              "      <td>False</td>\n",
              "    </tr>\n",
              "    <tr>\n",
              "      <th>...</th>\n",
              "      <td>...</td>\n",
              "      <td>...</td>\n",
              "      <td>...</td>\n",
              "      <td>...</td>\n",
              "      <td>...</td>\n",
              "      <td>...</td>\n",
              "      <td>...</td>\n",
              "      <td>...</td>\n",
              "      <td>...</td>\n",
              "    </tr>\n",
              "    <tr>\n",
              "      <th>584</th>\n",
              "      <td>7399</td>\n",
              "      <td>7463</td>\n",
              "      <td>2023</td>\n",
              "      <td>master</td>\n",
              "      <td>761</td>\n",
              "      <td>факультет систем управления и робототехники</td>\n",
              "      <td>ФСУ и Р</td>\n",
              "      <td>verified</td>\n",
              "      <td>True</td>\n",
              "    </tr>\n",
              "    <tr>\n",
              "      <th>585</th>\n",
              "      <td>7395</td>\n",
              "      <td>7459</td>\n",
              "      <td>2023</td>\n",
              "      <td>master</td>\n",
              "      <td>980</td>\n",
              "      <td>химико-биологический кластер</td>\n",
              "      <td>ХБК</td>\n",
              "      <td>verified</td>\n",
              "      <td>True</td>\n",
              "    </tr>\n",
              "    <tr>\n",
              "      <th>586</th>\n",
              "      <td>7493</td>\n",
              "      <td>7646</td>\n",
              "      <td>2023</td>\n",
              "      <td>bachelor</td>\n",
              "      <td>776</td>\n",
              "      <td>факультет цифровых трансформаций</td>\n",
              "      <td>ФЦТ</td>\n",
              "      <td>verified</td>\n",
              "      <td>True</td>\n",
              "    </tr>\n",
              "    <tr>\n",
              "      <th>587</th>\n",
              "      <td>7319</td>\n",
              "      <td>7383</td>\n",
              "      <td>2023</td>\n",
              "      <td>bachelor</td>\n",
              "      <td>762</td>\n",
              "      <td>факультет программной инженерии и компьютерной техники</td>\n",
              "      <td>ФПИ и КТ</td>\n",
              "      <td>verified</td>\n",
              "      <td>True</td>\n",
              "    </tr>\n",
              "    <tr>\n",
              "      <th>588</th>\n",
              "      <td>7317</td>\n",
              "      <td>7381</td>\n",
              "      <td>2023</td>\n",
              "      <td>bachelor</td>\n",
              "      <td>734</td>\n",
              "      <td>факультет технологического менеджмента и инноваций</td>\n",
              "      <td>ФТМИ</td>\n",
              "      <td>verified</td>\n",
              "      <td>True</td>\n",
              "    </tr>\n",
              "  </tbody>\n",
              "</table>\n",
              "<p>589 rows × 9 columns</p>\n",
              "</div>\n",
              "      <button class=\"colab-df-convert\" onclick=\"convertToInteractive('df-b8833729-5223-4b35-a779-b0f9e32e4e3d')\"\n",
              "              title=\"Convert this dataframe to an interactive table.\"\n",
              "              style=\"display:none;\">\n",
              "        \n",
              "  <svg xmlns=\"http://www.w3.org/2000/svg\" height=\"24px\"viewBox=\"0 0 24 24\"\n",
              "       width=\"24px\">\n",
              "    <path d=\"M0 0h24v24H0V0z\" fill=\"none\"/>\n",
              "    <path d=\"M18.56 5.44l.94 2.06.94-2.06 2.06-.94-2.06-.94-.94-2.06-.94 2.06-2.06.94zm-11 1L8.5 8.5l.94-2.06 2.06-.94-2.06-.94L8.5 2.5l-.94 2.06-2.06.94zm10 10l.94 2.06.94-2.06 2.06-.94-2.06-.94-.94-2.06-.94 2.06-2.06.94z\"/><path d=\"M17.41 7.96l-1.37-1.37c-.4-.4-.92-.59-1.43-.59-.52 0-1.04.2-1.43.59L10.3 9.45l-7.72 7.72c-.78.78-.78 2.05 0 2.83L4 21.41c.39.39.9.59 1.41.59.51 0 1.02-.2 1.41-.59l7.78-7.78 2.81-2.81c.8-.78.8-2.07 0-2.86zM5.41 20L4 18.59l7.72-7.72 1.47 1.35L5.41 20z\"/>\n",
              "  </svg>\n",
              "      </button>\n",
              "      \n",
              "  <style>\n",
              "    .colab-df-container {\n",
              "      display:flex;\n",
              "      flex-wrap:wrap;\n",
              "      gap: 12px;\n",
              "    }\n",
              "\n",
              "    .colab-df-convert {\n",
              "      background-color: #E8F0FE;\n",
              "      border: none;\n",
              "      border-radius: 50%;\n",
              "      cursor: pointer;\n",
              "      display: none;\n",
              "      fill: #1967D2;\n",
              "      height: 32px;\n",
              "      padding: 0 0 0 0;\n",
              "      width: 32px;\n",
              "    }\n",
              "\n",
              "    .colab-df-convert:hover {\n",
              "      background-color: #E2EBFA;\n",
              "      box-shadow: 0px 1px 2px rgba(60, 64, 67, 0.3), 0px 1px 3px 1px rgba(60, 64, 67, 0.15);\n",
              "      fill: #174EA6;\n",
              "    }\n",
              "\n",
              "    [theme=dark] .colab-df-convert {\n",
              "      background-color: #3B4455;\n",
              "      fill: #D2E3FC;\n",
              "    }\n",
              "\n",
              "    [theme=dark] .colab-df-convert:hover {\n",
              "      background-color: #434B5C;\n",
              "      box-shadow: 0px 1px 3px 1px rgba(0, 0, 0, 0.15);\n",
              "      filter: drop-shadow(0px 1px 2px rgba(0, 0, 0, 0.3));\n",
              "      fill: #FFFFFF;\n",
              "    }\n",
              "  </style>\n",
              "\n",
              "      <script>\n",
              "        const buttonEl =\n",
              "          document.querySelector('#df-b8833729-5223-4b35-a779-b0f9e32e4e3d button.colab-df-convert');\n",
              "        buttonEl.style.display =\n",
              "          google.colab.kernel.accessAllowed ? 'block' : 'none';\n",
              "\n",
              "        async function convertToInteractive(key) {\n",
              "          const element = document.querySelector('#df-b8833729-5223-4b35-a779-b0f9e32e4e3d');\n",
              "          const dataTable =\n",
              "            await google.colab.kernel.invokeFunction('convertToInteractive',\n",
              "                                                     [key], {});\n",
              "          if (!dataTable) return;\n",
              "\n",
              "          const docLinkHtml = 'Like what you see? Visit the ' +\n",
              "            '<a target=\"_blank\" href=https://colab.research.google.com/notebooks/data_table.ipynb>data table notebook</a>'\n",
              "            + ' to learn more about interactive tables.';\n",
              "          element.innerHTML = '';\n",
              "          dataTable['output_type'] = 'display_data';\n",
              "          await google.colab.output.renderOutput(dataTable, element);\n",
              "          const docLink = document.createElement('div');\n",
              "          docLink.innerHTML = docLinkHtml;\n",
              "          element.appendChild(docLink);\n",
              "        }\n",
              "      </script>\n",
              "    </div>\n",
              "  </div>\n",
              "  "
            ]
          },
          "metadata": {},
          "execution_count": 30
        }
      ]
    },
    {
      "cell_type": "markdown",
      "source": [
        "## Задание 1.3 Построить графики"
      ],
      "metadata": {
        "id": "K4ojBGB6G8F4"
      }
    },
    {
      "cell_type": "markdown",
      "source": [
        "Построить графики: количество планов по годам набора, квалификациям и структурным подразделениям."
      ],
      "metadata": {
        "id": "rgWDUVnUG07D"
      }
    },
    {
      "cell_type": "markdown",
      "source": [
        "Сгруппируем по годам и добавим столбец с количеством по каждой группе"
      ],
      "metadata": {
        "id": "-wIJZa4muDq7"
      }
    },
    {
      "cell_type": "code",
      "source": [
        "import matplotlib.pyplot as plt\n",
        "df_plans = df.groupby(['year']).size().reset_index(name='plans')"
      ],
      "metadata": {
        "id": "rkL8mCEA4jL8"
      },
      "execution_count": null,
      "outputs": []
    },
    {
      "cell_type": "markdown",
      "source": [
        "Построим график зависимости количества планов от года набора\n"
      ],
      "metadata": {
        "id": "Q-AgGs17ublt"
      }
    },
    {
      "cell_type": "code",
      "source": [
        "plt.figure(figsize=(15, 6))\n",
        "x = df_plans['year']\n",
        "y = df_plans['plans']\n",
        "fig, ax = plt.subplots()\n",
        "\n",
        "ax.bar(x, y)\n",
        "\n",
        "fig.set_figwidth(12)\n",
        "fig.set_figheight(6)\n",
        "\n",
        "plt.title('График количества планов по годам набора')\n",
        "plt.xlabel('Годы набора')\n",
        "plt.ylabel('Количество учебных планов')\n",
        "plt.show()\n"
      ],
      "metadata": {
        "colab": {
          "base_uri": "https://localhost:8080/",
          "height": 421
        },
        "id": "wFmCDx1o8z6P",
        "outputId": "c5902fe6-60b6-4f1f-8758-aa319bc8ea41"
      },
      "execution_count": null,
      "outputs": [
        {
          "output_type": "display_data",
          "data": {
            "text/plain": [
              "<Figure size 1080x432 with 0 Axes>"
            ]
          },
          "metadata": {}
        },
        {
          "output_type": "display_data",
          "data": {
            "text/plain": [
              "<Figure size 864x432 with 1 Axes>"
            ],
            "image/png": "[encoded data removed]"
          },
          "metadata": {
            "needs_background": "light"
          }
        }
      ]
    },
    {
      "cell_type": "markdown",
      "source": [
        "Как можно заметить, начиная с 2020 года количество планов резко увеличилось, по сравнению с 2018 и 2019 годами. Скорее всего связано с тем, что до 2020 года не загружались магистерские учебные планы."
      ],
      "metadata": {
        "id": "Lbq1YJeduli8"
      }
    },
    {
      "cell_type": "markdown",
      "source": [
        "Теперь сгруппируем планы по квалификациям и добавим столбец с количеством в каждой группе"
      ],
      "metadata": {
        "id": "pyCaReUdu1tH"
      }
    },
    {
      "cell_type": "code",
      "source": [
        "df_qualification = df.groupby(['qualification']).size().reset_index(name='plans')"
      ],
      "metadata": {
        "id": "LJVIbcl_KfuI"
      },
      "execution_count": null,
      "outputs": []
    },
    {
      "cell_type": "markdown",
      "source": [
        "Построим график зависимости количества планов от квалификации"
      ],
      "metadata": {
        "id": "fozhp_e1vEzs"
      }
    },
    {
      "cell_type": "code",
      "source": [
        "plt.figure(figsize=(15, 6))\n",
        "x = df_qualification['qualification']\n",
        "y = df_qualification['plans']\n",
        "fig, ax = plt.subplots()\n",
        "\n",
        "ax.bar(x, y)\n",
        "\n",
        "fig.set_figwidth(12)\n",
        "fig.set_figheight(6)\n",
        "\n",
        "plt.title('График количества планов по квалификациям')\n",
        "plt.xlabel('Квалификации')\n",
        "plt.ylabel('Количество учебных планов')\n",
        "plt.show()"
      ],
      "metadata": {
        "colab": {
          "base_uri": "https://localhost:8080/",
          "height": 421
        },
        "id": "ccnQ7WzpKzYL",
        "outputId": "3de50906-cf5a-4b9b-85c2-0f120d042014"
      },
      "execution_count": null,
      "outputs": [
        {
          "output_type": "display_data",
          "data": {
            "text/plain": [
              "<Figure size 1080x432 with 0 Axes>"
            ]
          },
          "metadata": {}
        },
        {
          "output_type": "display_data",
          "data": {
            "text/plain": [
              "<Figure size 864x432 with 1 Axes>"
            ],
            "image/png": "[encoded data removed]"
          },
          "metadata": {
            "needs_background": "light"
          }
        }
      ]
    },
    {
      "cell_type": "markdown",
      "source": [
        "Как можно заметить, меньше всего планов составлено для специалитета, больше всего для магистратуры. Бакалавриат занял второй место"
      ],
      "metadata": {
        "id": "UzKLQ78TvQVo"
      }
    },
    {
      "cell_type": "markdown",
      "source": [
        "Теперь сгруппируем планы по короткому имени и id структурного подразделения и добавим столбец с количеством в каждой группе"
      ],
      "metadata": {
        "id": "o0Z-sdslvhIo"
      }
    },
    {
      "cell_type": "code",
      "source": [
        "df_structure = df.groupby(['structural_short_name', 'structural_isu_id']).size().reset_index(name='plans')"
      ],
      "metadata": {
        "id": "cNxgII1tLNNs"
      },
      "execution_count": null,
      "outputs": []
    },
    {
      "cell_type": "markdown",
      "source": [
        "Построи график количества планов по структурным подразделениям (каждый столбец в столбчатой диаграмме под каждое подразделение с указанием короткого наименования и кода)"
      ],
      "metadata": {
        "id": "brKgPlckvyet"
      }
    },
    {
      "cell_type": "code",
      "source": [
        "import numpy as np\n",
        "y = df_structure['plans'].values.tolist()\n",
        "x = df_structure['structural_short_name'].values.tolist()\n",
        "z = df_structure['structural_isu_id'].values.tolist()\n",
        "for i in range(0, len(x)):\n",
        "  x[i] = f'{x[i]} ({z[i]})'\n",
        "fig, ax = plt.subplots()\n",
        "\n",
        "color_rectangle = np.random.rand(len(df_structure), 3)\n",
        "ax.bar(x, y, color = color_rectangle)\n",
        "\n",
        "fig.set_figwidth(12)\n",
        "fig.set_figheight(6)\n",
        "\n",
        "plt.title('График количества планов по структурным подразделениям')\n",
        "plt.xlabel('Структурные подразделения')\n",
        "plt.ylabel('Количество учебных планов')\n",
        "plt.xticks(rotation=90)\n",
        "\n",
        "plt.show()"
      ],
      "metadata": {
        "colab": {
          "base_uri": "https://localhost:8080/",
          "height": 511
        },
        "id": "SBzvR6zTLeWP",
        "outputId": "67a55a1b-af20-48bf-dca5-47ef7580eef9"
      },
      "execution_count": null,
      "outputs": [
        {
          "output_type": "display_data",
          "data": {
            "text/plain": [
              "<Figure size 864x432 with 1 Axes>"
            ],
            "image/png": "[encoded data removed]"
          },
          "metadata": {
            "needs_background": "light"
          }
        }
      ]
    },
    {
      "cell_type": "markdown",
      "source": [
        "Как можно заметить, наибольшим количеством планов обладает подразделение ФСУ и Р с кодом 761, наименьшим - ВШ ЦК с кодом 648 и ОЦ ЭИС с кодом 800"
      ],
      "metadata": {
        "id": "6gswyUA7wpY_"
      }
    },
    {
      "cell_type": "markdown",
      "source": [
        "## Задание 1.4 Анализ"
      ],
      "metadata": {
        "id": "H89NcA5FHI4X"
      }
    },
    {
      "cell_type": "markdown",
      "source": [
        "Для планов 2023 года набора построить график с распределением статусов \"on_check\" и \"was_send_to_isu\". Вывести ID и название структурного подразделения для а) не принятых, б) не отправленных планов"
      ],
      "metadata": {
        "id": "Z9XtlpnvHMZI"
      }
    },
    {
      "cell_type": "markdown",
      "source": [
        "Отфильтруем планы по 2023 году"
      ],
      "metadata": {
        "id": "y0nJsaXdxFFk"
      }
    },
    {
      "cell_type": "code",
      "source": [
        "df_year=df.query(\"`year` == 2023\").reset_index(drop=True)\n"
      ],
      "metadata": {
        "id": "7-v7_524rZ_D"
      },
      "execution_count": null,
      "outputs": []
    },
    {
      "cell_type": "markdown",
      "source": [
        "Составим сначала dataframe из необходимых параметров и переименуем колонки для удобства. Затем:\n",
        "\n",
        "1) Для каждого из статусов \"on_check\" сгруппируем данные по id и короткому наименованию структурного подразделения и добавим отдельный столбец с количеством для каждой группы\n",
        "\n",
        "2) Для каждого из состояний \"was_send_to_isu\" (True и False) сгруппируем данные по id и короткому наименованию структурного подразделения и добавим отдельный столбец с количеством для каждой группы"
      ],
      "metadata": {
        "id": "utZnrkr5xNTI"
      }
    },
    {
      "cell_type": "code",
      "source": [
        "dataset = df_year[['structural_isu_id', 'structural_short_name', 'on_check', 'was_send_to_isu']].copy()\n",
        "dataset.columns = ['structure', 'name', 'status', 'sended']\n",
        "daver = dataset.query(\"`status` == 'verified'\").groupby(['structure', 'name']).size().reset_index(name='count')\n",
        "dawork = dataset.query(\"`status` == 'in_work'\").groupby(['structure', 'name']).size().reset_index(name='count')\n",
        "dacheck = dataset.query(\"`status` == 'on_check'\").groupby(['structure', 'name']).size().reset_index(name='count')\n",
        "\n",
        "dasend = dataset.query(\"`sended` == True\").groupby(['structure', 'name']).size().reset_index(name='count')\n",
        "danotsend = dataset.query(\"`sended` != True\").groupby(['structure', 'name']).size().reset_index(name='count')"
      ],
      "metadata": {
        "id": "7CNQt-czxFLA"
      },
      "execution_count": null,
      "outputs": []
    },
    {
      "cell_type": "markdown",
      "source": [
        "1) Построим график зависимости количества планов от статуса on_check по структурным подразделениям с распределением по цветам в зависимости от статуса, указанного в легенде\n",
        "\n",
        "2) Построим график зависимости количества планов от статуса was_send_to_isu по структурным подразделениям с распределением по цветам в зависимости от статуса, указанного в легенде"
      ],
      "metadata": {
        "id": "JMRL916-yawW"
      }
    },
    {
      "cell_type": "code",
      "source": [
        "import numpy as np\n",
        "import matplotlib.patches as mpatches\n",
        "\n",
        "\n",
        "def plot(ax, dataframe, xframe, yframe, color, width, label, additional=''):\n",
        "  y = dataframe[yframe].values.tolist()\n",
        "  x = dataframe[xframe].values.tolist()\n",
        "  if additional != '':\n",
        "    z = dataframe[additional].values.tolist()\n",
        "    for i in range(0, len(x)):\n",
        "      x[i] = f'{x[i]} ({z[i]})'\n",
        "  ax.bar(x, y, color=color, width=width)\n",
        "  if label != '':\n",
        "    return mpatches.Patch(color=color, label=label)\n",
        "\n",
        "fig, ax = plt.subplots()\n",
        "fig.set_figwidth(12)\n",
        "fig.set_figheight(6)\n",
        "plt.title('График зависимости количества планов от статуса on_check по структурным подразделениям')\n",
        "plt.xlabel('Структурные подразделения')\n",
        "plt.ylabel('Планы')\n",
        "plt.xticks(rotation=90)\n",
        "\n",
        "\n",
        "patches=[]\n",
        "patches.append(plot(ax, daver, 'name', 'count', \"#4ceb34\", 0.8, 'verified', 'structure'))\n",
        "patches.append(plot(ax, dawork, 'name', 'count', \"#102de6\", 0.8, 'in_work', 'structure'))\n",
        "patches.append(plot(ax, dacheck, 'name', 'count', \"#f0e007\", 0.8, 'on_check', 'structure'))\n",
        "\n",
        "plt.legend(handles=patches)\n",
        "plt.show()\n",
        "\n",
        "\n",
        "fig, ax = plt.subplots()\n",
        "fig.set_figwidth(12)\n",
        "fig.set_figheight(6)\n",
        "plt.title('График зависимости количества планов от статуса was_send_to_isu по структурным подразделениям')\n",
        "plt.xlabel('Структурные подразделения')\n",
        "plt.ylabel('Планы')\n",
        "plt.xticks(rotation=90)\n",
        "\n",
        "\n",
        "patches=[]\n",
        "patches.append(plot(ax, dasend, 'name', 'count', \"#102de6\", 0.8, 'True', 'structure'))\n",
        "patches.append(plot(ax, danotsend, 'name', 'count', \"#f0e007\", 0.8, 'False', 'structure'))\n",
        "\n",
        "plt.legend(handles=patches)\n",
        "plt.show()"
      ],
      "metadata": {
        "colab": {
          "base_uri": "https://localhost:8080/",
          "height": 1000
        },
        "id": "Lf0-Ci_2wfs0",
        "outputId": "95b502ab-ad80-4e39-b316-9c14ad82e0c1"
      },
      "execution_count": null,
      "outputs": [
        {
          "output_type": "display_data",
          "data": {
            "text/plain": [
              "<Figure size 864x432 with 1 Axes>"
            ],
            "image/png": "[encoded data removed]"
          },
          "metadata": {
            "needs_background": "light"
          }
        },
        {
          "output_type": "display_data",
          "data": {
            "text/plain": [
              "<Figure size 864x432 with 1 Axes>"
            ],
            "image/png": "[encoded data removed]"
          },
          "metadata": {
            "needs_background": "light"
          }
        }
      ]
    },
    {
      "cell_type": "markdown",
      "source": [
        "Из первого графика мы видим, что большинство планов было утверждено. И наименьшее количество проверяется. При этом стоит отметить, что структурные подразделения ФИКТ с кодом 725 и ФТМИ с кодом 734 наибольшим образом отстают от других по скорости работы над утверждением планов."
      ],
      "metadata": {
        "id": "whrYLE60zDf1"
      }
    },
    {
      "cell_type": "markdown",
      "source": [
        "Из второго графика мы видим, что большинство подразделений отправило в isu свои планы. Стоит отметить, что, как и говорилось ранее, часть структурных подразделений не справилось с задачей по полному утверждению всех планов, в следствие чего из текущего графика можно сделать вывод о том, что ФИКТ с кодом 725, ФТМИ с кодом 734 и Ф фотоники с кодом 720 все еще не отправили часть планов в isu."
      ],
      "metadata": {
        "id": "j2dcgAuEz3lA"
      }
    },
    {
      "cell_type": "markdown",
      "source": [
        "Выведем id плана, id и название структурного подразделения для:"
      ],
      "metadata": {
        "id": "jOL87R4U1fi4"
      }
    },
    {
      "cell_type": "markdown",
      "source": [
        "а) не принятых планов"
      ],
      "metadata": {
        "id": "BMMOVxv41r8C"
      }
    },
    {
      "cell_type": "code",
      "source": [
        "#a)\n",
        "df_year.query(\"`on_check` != 'verified'\")[['id', 'structural_isu_id', 'structural_title']].reset_index(drop=True)"
      ],
      "metadata": {
        "colab": {
          "base_uri": "https://localhost:8080/",
          "height": 175
        },
        "id": "oVsz3gs1le0w",
        "outputId": "bc94ec8c-8aea-4d2e-ecb3-d8b01ba2b3d0"
      },
      "execution_count": null,
      "outputs": [
        {
          "output_type": "execute_result",
          "data": {
            "text/plain": [
              "     id  structural_isu_id                                   structural_title\n",
              "0  7402                734  факультет технологического менеджмента и иннов...\n",
              "1  7403                734  факультет технологического менеджмента и иннов...\n",
              "2  7484                725          факультет инфокоммуникационных технологий\n",
              "3  7495                720                                 факультет фотоники"
            ],
            "text/html": [
              "\n",
              "  <div id=\"df-2ecbf2d9-2876-47f5-9cbd-d60fe8e42468\">\n",
              "    <div class=\"colab-df-container\">\n",
              "      <div>\n",
              "<style scoped>\n",
              "    .dataframe tbody tr th:only-of-type {\n",
              "        vertical-align: middle;\n",
              "    }\n",
              "\n",
              "    .dataframe tbody tr th {\n",
              "        vertical-align: top;\n",
              "    }\n",
              "\n",
              "    .dataframe thead th {\n",
              "        text-align: right;\n",
              "    }\n",
              "</style>\n",
              "<table border=\"1\" class=\"dataframe\">\n",
              "  <thead>\n",
              "    <tr style=\"text-align: right;\">\n",
              "      <th></th>\n",
              "      <th>id</th>\n",
              "      <th>structural_isu_id</th>\n",
              "      <th>structural_title</th>\n",
              "    </tr>\n",
              "  </thead>\n",
              "  <tbody>\n",
              "    <tr>\n",
              "      <th>0</th>\n",
              "      <td>7402</td>\n",
              "      <td>734</td>\n",
              "      <td>факультет технологического менеджмента и иннов...</td>\n",
              "    </tr>\n",
              "    <tr>\n",
              "      <th>1</th>\n",
              "      <td>7403</td>\n",
              "      <td>734</td>\n",
              "      <td>факультет технологического менеджмента и иннов...</td>\n",
              "    </tr>\n",
              "    <tr>\n",
              "      <th>2</th>\n",
              "      <td>7484</td>\n",
              "      <td>725</td>\n",
              "      <td>факультет инфокоммуникационных технологий</td>\n",
              "    </tr>\n",
              "    <tr>\n",
              "      <th>3</th>\n",
              "      <td>7495</td>\n",
              "      <td>720</td>\n",
              "      <td>факультет фотоники</td>\n",
              "    </tr>\n",
              "  </tbody>\n",
              "</table>\n",
              "</div>\n",
              "      <button class=\"colab-df-convert\" onclick=\"convertToInteractive('df-2ecbf2d9-2876-47f5-9cbd-d60fe8e42468')\"\n",
              "              title=\"Convert this dataframe to an interactive table.\"\n",
              "              style=\"display:none;\">\n",
              "        \n",
              "  <svg xmlns=\"http://www.w3.org/2000/svg\" height=\"24px\"viewBox=\"0 0 24 24\"\n",
              "       width=\"24px\">\n",
              "    <path d=\"M0 0h24v24H0V0z\" fill=\"none\"/>\n",
              "    <path d=\"M18.56 5.44l.94 2.06.94-2.06 2.06-.94-2.06-.94-.94-2.06-.94 2.06-2.06.94zm-11 1L8.5 8.5l.94-2.06 2.06-.94-2.06-.94L8.5 2.5l-.94 2.06-2.06.94zm10 10l.94 2.06.94-2.06 2.06-.94-2.06-.94-.94-2.06-.94 2.06-2.06.94z\"/><path d=\"M17.41 7.96l-1.37-1.37c-.4-.4-.92-.59-1.43-.59-.52 0-1.04.2-1.43.59L10.3 9.45l-7.72 7.72c-.78.78-.78 2.05 0 2.83L4 21.41c.39.39.9.59 1.41.59.51 0 1.02-.2 1.41-.59l7.78-7.78 2.81-2.81c.8-.78.8-2.07 0-2.86zM5.41 20L4 18.59l7.72-7.72 1.47 1.35L5.41 20z\"/>\n",
              "  </svg>\n",
              "      </button>\n",
              "      \n",
              "  <style>\n",
              "    .colab-df-container {\n",
              "      display:flex;\n",
              "      flex-wrap:wrap;\n",
              "      gap: 12px;\n",
              "    }\n",
              "\n",
              "    .colab-df-convert {\n",
              "      background-color: #E8F0FE;\n",
              "      border: none;\n",
              "      border-radius: 50%;\n",
              "      cursor: pointer;\n",
              "      display: none;\n",
              "      fill: #1967D2;\n",
              "      height: 32px;\n",
              "      padding: 0 0 0 0;\n",
              "      width: 32px;\n",
              "    }\n",
              "\n",
              "    .colab-df-convert:hover {\n",
              "      background-color: #E2EBFA;\n",
              "      box-shadow: 0px 1px 2px rgba(60, 64, 67, 0.3), 0px 1px 3px 1px rgba(60, 64, 67, 0.15);\n",
              "      fill: #174EA6;\n",
              "    }\n",
              "\n",
              "    [theme=dark] .colab-df-convert {\n",
              "      background-color: #3B4455;\n",
              "      fill: #D2E3FC;\n",
              "    }\n",
              "\n",
              "    [theme=dark] .colab-df-convert:hover {\n",
              "      background-color: #434B5C;\n",
              "      box-shadow: 0px 1px 3px 1px rgba(0, 0, 0, 0.15);\n",
              "      filter: drop-shadow(0px 1px 2px rgba(0, 0, 0, 0.3));\n",
              "      fill: #FFFFFF;\n",
              "    }\n",
              "  </style>\n",
              "\n",
              "      <script>\n",
              "        const buttonEl =\n",
              "          document.querySelector('#df-2ecbf2d9-2876-47f5-9cbd-d60fe8e42468 button.colab-df-convert');\n",
              "        buttonEl.style.display =\n",
              "          google.colab.kernel.accessAllowed ? 'block' : 'none';\n",
              "\n",
              "        async function convertToInteractive(key) {\n",
              "          const element = document.querySelector('#df-2ecbf2d9-2876-47f5-9cbd-d60fe8e42468');\n",
              "          const dataTable =\n",
              "            await google.colab.kernel.invokeFunction('convertToInteractive',\n",
              "                                                     [key], {});\n",
              "          if (!dataTable) return;\n",
              "\n",
              "          const docLinkHtml = 'Like what you see? Visit the ' +\n",
              "            '<a target=\"_blank\" href=https://colab.research.google.com/notebooks/data_table.ipynb>data table notebook</a>'\n",
              "            + ' to learn more about interactive tables.';\n",
              "          element.innerHTML = '';\n",
              "          dataTable['output_type'] = 'display_data';\n",
              "          await google.colab.output.renderOutput(dataTable, element);\n",
              "          const docLink = document.createElement('div');\n",
              "          docLink.innerHTML = docLinkHtml;\n",
              "          element.appendChild(docLink);\n",
              "        }\n",
              "      </script>\n",
              "    </div>\n",
              "  </div>\n",
              "  "
            ]
          },
          "metadata": {},
          "execution_count": 3
        }
      ]
    },
    {
      "cell_type": "markdown",
      "source": [
        "б) не отправленных планов"
      ],
      "metadata": {
        "id": "hKvrcP4v1xEJ"
      }
    },
    {
      "cell_type": "code",
      "source": [
        "#b)\n",
        "df_year.query(\"`was_send_to_isu` == False\")[['id', 'structural_isu_id', 'structural_title']].reset_index(drop=True)"
      ],
      "metadata": {
        "colab": {
          "base_uri": "https://localhost:8080/",
          "height": 175
        },
        "id": "hF8jKXJZnBXa",
        "outputId": "4c46828c-6397-4125-cbf8-87f98c333da6"
      },
      "execution_count": null,
      "outputs": [
        {
          "output_type": "execute_result",
          "data": {
            "text/plain": [
              "     id  structural_isu_id                                   structural_title\n",
              "0  7402                734  факультет технологического менеджмента и иннов...\n",
              "1  7403                734  факультет технологического менеджмента и иннов...\n",
              "2  7484                725          факультет инфокоммуникационных технологий\n",
              "3  7495                720                                 факультет фотоники"
            ],
            "text/html": [
              "\n",
              "  <div id=\"df-be2569f1-5244-48fa-a04e-e1cee3691aa0\">\n",
              "    <div class=\"colab-df-container\">\n",
              "      <div>\n",
              "<style scoped>\n",
              "    .dataframe tbody tr th:only-of-type {\n",
              "        vertical-align: middle;\n",
              "    }\n",
              "\n",
              "    .dataframe tbody tr th {\n",
              "        vertical-align: top;\n",
              "    }\n",
              "\n",
              "    .dataframe thead th {\n",
              "        text-align: right;\n",
              "    }\n",
              "</style>\n",
              "<table border=\"1\" class=\"dataframe\">\n",
              "  <thead>\n",
              "    <tr style=\"text-align: right;\">\n",
              "      <th></th>\n",
              "      <th>id</th>\n",
              "      <th>structural_isu_id</th>\n",
              "      <th>structural_title</th>\n",
              "    </tr>\n",
              "  </thead>\n",
              "  <tbody>\n",
              "    <tr>\n",
              "      <th>0</th>\n",
              "      <td>7402</td>\n",
              "      <td>734</td>\n",
              "      <td>факультет технологического менеджмента и иннов...</td>\n",
              "    </tr>\n",
              "    <tr>\n",
              "      <th>1</th>\n",
              "      <td>7403</td>\n",
              "      <td>734</td>\n",
              "      <td>факультет технологического менеджмента и иннов...</td>\n",
              "    </tr>\n",
              "    <tr>\n",
              "      <th>2</th>\n",
              "      <td>7484</td>\n",
              "      <td>725</td>\n",
              "      <td>факультет инфокоммуникационных технологий</td>\n",
              "    </tr>\n",
              "    <tr>\n",
              "      <th>3</th>\n",
              "      <td>7495</td>\n",
              "      <td>720</td>\n",
              "      <td>факультет фотоники</td>\n",
              "    </tr>\n",
              "  </tbody>\n",
              "</table>\n",
              "</div>\n",
              "      <button class=\"colab-df-convert\" onclick=\"convertToInteractive('df-be2569f1-5244-48fa-a04e-e1cee3691aa0')\"\n",
              "              title=\"Convert this dataframe to an interactive table.\"\n",
              "              style=\"display:none;\">\n",
              "        \n",
              "  <svg xmlns=\"http://www.w3.org/2000/svg\" height=\"24px\"viewBox=\"0 0 24 24\"\n",
              "       width=\"24px\">\n",
              "    <path d=\"M0 0h24v24H0V0z\" fill=\"none\"/>\n",
              "    <path d=\"M18.56 5.44l.94 2.06.94-2.06 2.06-.94-2.06-.94-.94-2.06-.94 2.06-2.06.94zm-11 1L8.5 8.5l.94-2.06 2.06-.94-2.06-.94L8.5 2.5l-.94 2.06-2.06.94zm10 10l.94 2.06.94-2.06 2.06-.94-2.06-.94-.94-2.06-.94 2.06-2.06.94z\"/><path d=\"M17.41 7.96l-1.37-1.37c-.4-.4-.92-.59-1.43-.59-.52 0-1.04.2-1.43.59L10.3 9.45l-7.72 7.72c-.78.78-.78 2.05 0 2.83L4 21.41c.39.39.9.59 1.41.59.51 0 1.02-.2 1.41-.59l7.78-7.78 2.81-2.81c.8-.78.8-2.07 0-2.86zM5.41 20L4 18.59l7.72-7.72 1.47 1.35L5.41 20z\"/>\n",
              "  </svg>\n",
              "      </button>\n",
              "      \n",
              "  <style>\n",
              "    .colab-df-container {\n",
              "      display:flex;\n",
              "      flex-wrap:wrap;\n",
              "      gap: 12px;\n",
              "    }\n",
              "\n",
              "    .colab-df-convert {\n",
              "      background-color: #E8F0FE;\n",
              "      border: none;\n",
              "      border-radius: 50%;\n",
              "      cursor: pointer;\n",
              "      display: none;\n",
              "      fill: #1967D2;\n",
              "      height: 32px;\n",
              "      padding: 0 0 0 0;\n",
              "      width: 32px;\n",
              "    }\n",
              "\n",
              "    .colab-df-convert:hover {\n",
              "      background-color: #E2EBFA;\n",
              "      box-shadow: 0px 1px 2px rgba(60, 64, 67, 0.3), 0px 1px 3px 1px rgba(60, 64, 67, 0.15);\n",
              "      fill: #174EA6;\n",
              "    }\n",
              "\n",
              "    [theme=dark] .colab-df-convert {\n",
              "      background-color: #3B4455;\n",
              "      fill: #D2E3FC;\n",
              "    }\n",
              "\n",
              "    [theme=dark] .colab-df-convert:hover {\n",
              "      background-color: #434B5C;\n",
              "      box-shadow: 0px 1px 3px 1px rgba(0, 0, 0, 0.15);\n",
              "      filter: drop-shadow(0px 1px 2px rgba(0, 0, 0, 0.3));\n",
              "      fill: #FFFFFF;\n",
              "    }\n",
              "  </style>\n",
              "\n",
              "      <script>\n",
              "        const buttonEl =\n",
              "          document.querySelector('#df-be2569f1-5244-48fa-a04e-e1cee3691aa0 button.colab-df-convert');\n",
              "        buttonEl.style.display =\n",
              "          google.colab.kernel.accessAllowed ? 'block' : 'none';\n",
              "\n",
              "        async function convertToInteractive(key) {\n",
              "          const element = document.querySelector('#df-be2569f1-5244-48fa-a04e-e1cee3691aa0');\n",
              "          const dataTable =\n",
              "            await google.colab.kernel.invokeFunction('convertToInteractive',\n",
              "                                                     [key], {});\n",
              "          if (!dataTable) return;\n",
              "\n",
              "          const docLinkHtml = 'Like what you see? Visit the ' +\n",
              "            '<a target=\"_blank\" href=https://colab.research.google.com/notebooks/data_table.ipynb>data table notebook</a>'\n",
              "            + ' to learn more about interactive tables.';\n",
              "          element.innerHTML = '';\n",
              "          dataTable['output_type'] = 'display_data';\n",
              "          await google.colab.output.renderOutput(dataTable, element);\n",
              "          const docLink = document.createElement('div');\n",
              "          docLink.innerHTML = docLinkHtml;\n",
              "          element.appendChild(docLink);\n",
              "        }\n",
              "      </script>\n",
              "    </div>\n",
              "  </div>\n",
              "  "
            ]
          },
          "metadata": {},
          "execution_count": 4
        }
      ]
    }
  ]
}