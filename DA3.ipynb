{
  "nbformat": 4,
  "nbformat_minor": 0,
  "metadata": {
    "colab": {
      "provenance": []
    },
    "kernelspec": {
      "display_name": "Python 3",
      "language": "python",
      "name": "python3"
    },
    "language_info": {
      "codemirror_mode": {
        "name": "ipython",
        "version": 3
      },
      "file_extension": ".py",
      "mimetype": "text/x-python",
      "name": "python",
      "nbconvert_exporter": "python",
      "pygments_lexer": "ipython3",
      "version": "3.8.5"
    }
  },
  "cells": [
    {
      "cell_type": "markdown",
      "metadata": {
        "id": "9p4V680CkDk9"
      },
      "source": [
        "# The Movies Dataset TF-IDF Content-Based Recommendation"
      ]
    },
    {
      "cell_type": "markdown",
      "source": [
        "##Понимание данных:"
      ],
      "metadata": {
        "id": "c7EZV5qHpz0f"
      }
    },
    {
      "cell_type": "markdown",
      "metadata": {
        "id": "6LjaWDDidlE0"
      },
      "source": [
        "### Набор данных"
      ]
    },
    {
      "cell_type": "markdown",
      "metadata": {
        "id": "bYr4k6hldlE1"
      },
      "source": [
        "Дан набор данных, содержащий информацию о 45,000 фильмах, выпущенных до июля 2017 года. Набор данных представлен на ресурсе Kaggle по ссылке https://www.kaggle.com/rounakbanik/the-movies-dataset\n",
        "где представлено следующее описание составляющих файлов (выполнен перевод на русский язык):"
      ]
    },
    {
      "cell_type": "markdown",
      "metadata": {
        "id": "X9NqoYy3kQHB"
      },
      "source": [
        "`movies_metadata.csv:` Основной файл метаданных фильмов. Содержит информацию о 45 000 фильмов, представленных в наборе данных Full MovieLens. В таблицы представлены плакаты, фоны, бюджет, доход, даты выпуска, языки, страны-производители и компании.\n",
        "\n",
        "`keywords.csv:` Содержит ключевые слова сюжета для наших фильмов MovieLens. Доступен в виде строкового объекта JSON.\n",
        "\n",
        "`credits.csv:` Состоит из информации об актерах и съемках всех наших фильмов. Доступен в виде строкового объекта JSON.\n",
        "\n",
        "`links.csv:` Файл содержит идентификаторы TMDB и IMDB всех фильмов, представленных в наборе данных Full MovieLens.\n",
        "\n",
        "`links_small.csv:` Содержит идентификаторы TMDB и IMDB небольшого подмножества из 9000 фильмов полного набора данных.\n",
        "\n",
        "`ratings_small.csv:` Подмножество 100 000 оценок от 700 пользователей на 9 000 фильмов.\n",
        "\n",
        "`ratings.csv `- файл, содержащий полный список оценок, выставленных пользователями фильмам\n",
        "\n"
      ]
    },
    {
      "cell_type": "markdown",
      "metadata": {
        "id": "Uw1KKxsgdlE4"
      },
      "source": [
        "Рассмотрим подробнее две таблицы:"
      ]
    },
    {
      "cell_type": "markdown",
      "metadata": {
        "id": "s2KeDbdAdlE4"
      },
      "source": [
        "*   `movies_metadata.csv `\n",
        "*   `ratings.csv `"
      ]
    },
    {
      "cell_type": "code",
      "metadata": {
        "id": "l7PzPczhAF63"
      },
      "source": [
        "import pandas as pd\n",
        "import numpy as np"
      ],
      "execution_count": null,
      "outputs": []
    },
    {
      "cell_type": "code",
      "source": [
        "! pip install --upgrade --no-cache-dir gdown"
      ],
      "metadata": {
        "colab": {
          "base_uri": "https://localhost:8080/"
        },
        "id": "aZyzhbwY5Y8Y",
        "outputId": "46a5c00e-7399-4fb1-fff1-11351c936332"
      },
      "execution_count": null,
      "outputs": [
        {
          "output_type": "stream",
          "name": "stdout",
          "text": [
            "Looking in indexes: https://pypi.org/simple, https://us-python.pkg.dev/colab-wheels/public/simple/\n",
            "Requirement already satisfied: gdown in /usr/local/lib/python3.9/dist-packages (4.6.4)\n",
            "Requirement already satisfied: six in /usr/local/lib/python3.9/dist-packages (from gdown) (1.15.0)\n",
            "Requirement already satisfied: requests[socks] in /usr/local/lib/python3.9/dist-packages (from gdown) (2.25.1)\n",
            "Requirement already satisfied: beautifulsoup4 in /usr/local/lib/python3.9/dist-packages (from gdown) (4.6.3)\n",
            "Requirement already satisfied: tqdm in /usr/local/lib/python3.9/dist-packages (from gdown) (4.65.0)\n",
            "Requirement already satisfied: filelock in /usr/local/lib/python3.9/dist-packages (from gdown) (3.9.0)\n",
            "Requirement already satisfied: certifi>=2017.4.17 in /usr/local/lib/python3.9/dist-packages (from requests[socks]->gdown) (2022.12.7)\n",
            "Requirement already satisfied: idna<3,>=2.5 in /usr/local/lib/python3.9/dist-packages (from requests[socks]->gdown) (2.10)\n",
            "Requirement already satisfied: urllib3<1.27,>=1.21.1 in /usr/local/lib/python3.9/dist-packages (from requests[socks]->gdown) (1.26.14)\n",
            "Requirement already satisfied: chardet<5,>=3.0.2 in /usr/local/lib/python3.9/dist-packages (from requests[socks]->gdown) (4.0.0)\n",
            "Requirement already satisfied: PySocks!=1.5.7,>=1.5.6 in /usr/local/lib/python3.9/dist-packages (from requests[socks]->gdown) (1.7.1)\n"
          ]
        }
      ]
    },
    {
      "cell_type": "code",
      "metadata": {
        "id": "H0lOsH_JdvWk",
        "colab": {
          "base_uri": "https://localhost:8080/"
        },
        "outputId": "0616a65e-7b77-49cf-c1fb-632c1066c2ac"
      },
      "source": [
        "!gdown 1VhTKhVGzX5yzhWUIS_6BxueDCMdY6qMs"
      ],
      "execution_count": null,
      "outputs": [
        {
          "output_type": "stream",
          "name": "stdout",
          "text": [
            "Downloading...\n",
            "From: https://drive.google.com/uc?id=1VhTKhVGzX5yzhWUIS_6BxueDCMdY6qMs\n",
            "To: /content/movies_metadata.csv\n",
            "100% 34.4M/34.4M [00:00<00:00, 118MB/s] \n"
          ]
        }
      ]
    },
    {
      "cell_type": "code",
      "source": [
        "!gdown 1isn48f2xVc-XEdvSrBgqc94r-_NXqtGd"
      ],
      "metadata": {
        "id": "ux-ilGHh75DD",
        "colab": {
          "base_uri": "https://localhost:8080/"
        },
        "outputId": "71504754-2f56-4adf-97d4-aaa2dab6cf64"
      },
      "execution_count": null,
      "outputs": [
        {
          "output_type": "stream",
          "name": "stdout",
          "text": [
            "Downloading...\n",
            "From: https://drive.google.com/uc?id=1isn48f2xVc-XEdvSrBgqc94r-_NXqtGd\n",
            "To: /content/ratings.csv\n",
            "100% 710M/710M [00:07<00:00, 92.7MB/s]\n"
          ]
        }
      ]
    },
    {
      "cell_type": "markdown",
      "source": [
        "Начинаем с анализа датафрейма movies_metadata"
      ],
      "metadata": {
        "id": "7qhC1HNfsKQt"
      }
    },
    {
      "cell_type": "code",
      "source": [
        "metadata = pd.read_csv(\"movies_metadata.csv\", low_memory=False)\n",
        "print(f'Всего строк: {len(metadata)}')"
      ],
      "metadata": {
        "colab": {
          "base_uri": "https://localhost:8080/"
        },
        "id": "GhbRrunUvjPq",
        "outputId": "ed65da9e-f32a-44a0-933e-d3469d9d6c2b"
      },
      "execution_count": null,
      "outputs": [
        {
          "output_type": "stream",
          "name": "stdout",
          "text": [
            "Всего строк: 45466\n"
          ]
        }
      ]
    },
    {
      "cell_type": "markdown",
      "source": [
        "## Задание 1"
      ],
      "metadata": {
        "id": "gV0jRXVz9lPU"
      }
    },
    {
      "cell_type": "code",
      "source": [
        "metadata.info()"
      ],
      "metadata": {
        "id": "O5Mbl_fUZPDG",
        "colab": {
          "base_uri": "https://localhost:8080/"
        },
        "outputId": "61026d56-54a6-460a-ea13-60e9313bb1f4"
      },
      "execution_count": null,
      "outputs": [
        {
          "output_type": "stream",
          "name": "stdout",
          "text": [
            "<class 'pandas.core.frame.DataFrame'>\n",
            "RangeIndex: 45466 entries, 0 to 45465\n",
            "Data columns (total 24 columns):\n",
            " #   Column                 Non-Null Count  Dtype  \n",
            "---  ------                 --------------  -----  \n",
            " 0   adult                  45466 non-null  object \n",
            " 1   belongs_to_collection  4494 non-null   object \n",
            " 2   budget                 45466 non-null  object \n",
            " 3   genres                 45466 non-null  object \n",
            " 4   homepage               7782 non-null   object \n",
            " 5   id                     45466 non-null  object \n",
            " 6   imdb_id                45449 non-null  object \n",
            " 7   original_language      45455 non-null  object \n",
            " 8   original_title         45466 non-null  object \n",
            " 9   overview               44512 non-null  object \n",
            " 10  popularity             45461 non-null  object \n",
            " 11  poster_path            45080 non-null  object \n",
            " 12  production_companies   45463 non-null  object \n",
            " 13  production_countries   45463 non-null  object \n",
            " 14  release_date           45379 non-null  object \n",
            " 15  revenue                45460 non-null  float64\n",
            " 16  runtime                45203 non-null  float64\n",
            " 17  spoken_languages       45460 non-null  object \n",
            " 18  status                 45379 non-null  object \n",
            " 19  tagline                20412 non-null  object \n",
            " 20  title                  45460 non-null  object \n",
            " 21  video                  45460 non-null  object \n",
            " 22  vote_average           45460 non-null  float64\n",
            " 23  vote_count             45460 non-null  float64\n",
            "dtypes: float64(4), object(20)\n",
            "memory usage: 8.3+ MB\n"
          ]
        }
      ]
    },
    {
      "cell_type": "markdown",
      "source": [
        "Удалите из датафрейма metadata строки, в которых отсутствует описание. Обратите внимание, что у некоторых фильмов формально описание есть, но там написано No overview found, No overview, No movie overview available, Released. Такие строки тоже нужно удалить."
      ],
      "metadata": {
        "id": "ZUIzBKCL9o2O"
      }
    },
    {
      "cell_type": "code",
      "source": [
        "metadata_new = metadata.loc[~pd.isna(metadata.overview)]"
      ],
      "metadata": {
        "id": "oI3lY6pYveBo"
      },
      "execution_count": null,
      "outputs": []
    },
    {
      "cell_type": "markdown",
      "source": [
        "Удалим строки с описанием из стоп-листа"
      ],
      "metadata": {
        "id": "u3nSXd1_ql3a"
      }
    },
    {
      "cell_type": "code",
      "source": [
        "drop_list = ['No overview found.', 'No overview yet.', 'No overview.', 'No overview', 'No movie overview available.', 'No plot overview available', 'No movie overview available, please add one at themoviedb.org',\n",
        "             'no overview yet', 'Released', '...', ' ', 'x']\n",
        "metadata = metadata_new.loc[~metadata.overview.isin(drop_list)]"
      ],
      "metadata": {
        "id": "FtnZ_v3byYo8"
      },
      "execution_count": null,
      "outputs": []
    },
    {
      "cell_type": "markdown",
      "source": [
        "Осталось строк:"
      ],
      "metadata": {
        "id": "EQSpZwNpqvLq"
      }
    },
    {
      "cell_type": "code",
      "source": [
        "print(f'Всего строк: {len(metadata)}')"
      ],
      "metadata": {
        "colab": {
          "base_uri": "https://localhost:8080/"
        },
        "id": "4UBPCp4SyHZY",
        "outputId": "549b39d1-2a37-4af1-ee28-b163a68a0813"
      },
      "execution_count": null,
      "outputs": [
        {
          "output_type": "stream",
          "name": "stdout",
          "text": [
            "Всего строк: 44359\n"
          ]
        }
      ]
    },
    {
      "cell_type": "code",
      "source": [
        "metadata.isnull().sum()"
      ],
      "metadata": {
        "colab": {
          "base_uri": "https://localhost:8080/"
        },
        "id": "CCdxLIsJ8yz6",
        "outputId": "bad8a23c-934e-4e73-cb70-3beae6e46552"
      },
      "execution_count": null,
      "outputs": [
        {
          "output_type": "execute_result",
          "data": {
            "text/plain": [
              "adult                        0\n",
              "belongs_to_collection    39945\n",
              "budget                       0\n",
              "genres                       0\n",
              "homepage                 36606\n",
              "id                           0\n",
              "imdb_id                     15\n",
              "original_language           10\n",
              "original_title               0\n",
              "overview                     0\n",
              "popularity                   3\n",
              "poster_path                344\n",
              "production_companies         3\n",
              "production_countries         3\n",
              "release_date                74\n",
              "revenue                      3\n",
              "runtime                      3\n",
              "spoken_languages             3\n",
              "status                      66\n",
              "tagline                  23961\n",
              "title                        3\n",
              "video                        3\n",
              "vote_average                 3\n",
              "vote_count                   3\n",
              "dtype: int64"
            ]
          },
          "metadata": {},
          "execution_count": 178
        }
      ]
    },
    {
      "cell_type": "markdown",
      "source": [
        "## Задание 2"
      ],
      "metadata": {
        "id": "o6z6ZUDkwJa6"
      }
    },
    {
      "cell_type": "markdown",
      "source": [
        "Оставьте в датафрейме столбцы `'id', 'imdb_id', 'overview', 'title'`. Выведите 10 случайных строк."
      ],
      "metadata": {
        "id": "3GLq8eNA-a4q"
      }
    },
    {
      "cell_type": "code",
      "source": [
        "metadata = metadata[['id', 'imdb_id', 'overview', 'title']]\n",
        "metadata.sample(10)"
      ],
      "metadata": {
        "colab": {
          "base_uri": "https://localhost:8080/",
          "height": 363
        },
        "id": "bW1oEBX41Y5u",
        "outputId": "d81ddb09-a3c3-40a3-af00-0260523ca309"
      },
      "execution_count": null,
      "outputs": [
        {
          "output_type": "execute_result",
          "data": {
            "text/plain": [
              "           id    imdb_id                                           overview  \\\n",
              "20730  173294  tt2006810  Following his ruin in the latest banking crisi...   \n",
              "18900  242621  tt0037946  A Barbary Coast saloon owner hopes to marry hi...   \n",
              "7596    25853  tt0285728  On February 15, 1992 in Milwaukee, Wisconsin, ...   \n",
              "23453   32929  tt0042219  When he's discharged from a military hospital,...   \n",
              "8812    13633  tt0085210  Mick O'Brien is a young Chicago street thug to...   \n",
              "14607   23963  tt1226681  When disc jockey Grant Mazzy reports to his ba...   \n",
              "25579   60119  tt0244196  A tough guy named Tommy Gunn, with \"kaos\" tatt...   \n",
              "20205  135200  tt1853555  Jennifer Carpenter, Kristen Connolly and Alexa...   \n",
              "35915  190183  tt0031648  A confidence man pretending to be a mentalist ...   \n",
              "12823   19244  tt1086340  The true-life story of a Harlem's notorious Ni...   \n",
              "\n",
              "                     title  \n",
              "20730  Papadopoulos & Sons  \n",
              "18900             Nob Hill  \n",
              "7596                Dahmer  \n",
              "23453             Backfire  \n",
              "8812              Bad Boys  \n",
              "14607            Pontypool  \n",
              "25579          Second Skin  \n",
              "20205       Ex-Girlfriends  \n",
              "35915      Midnight Shadow  \n",
              "12823      Mr. Untouchable  "
            ],
            "text/html": [
              "\n",
              "  <div id=\"df-2b2717bc-1d39-4eb6-9920-35149551e5f0\">\n",
              "    <div class=\"colab-df-container\">\n",
              "      <div>\n",
              "<style scoped>\n",
              "    .dataframe tbody tr th:only-of-type {\n",
              "        vertical-align: middle;\n",
              "    }\n",
              "\n",
              "    .dataframe tbody tr th {\n",
              "        vertical-align: top;\n",
              "    }\n",
              "\n",
              "    .dataframe thead th {\n",
              "        text-align: right;\n",
              "    }\n",
              "</style>\n",
              "<table border=\"1\" class=\"dataframe\">\n",
              "  <thead>\n",
              "    <tr style=\"text-align: right;\">\n",
              "      <th></th>\n",
              "      <th>id</th>\n",
              "      <th>imdb_id</th>\n",
              "      <th>overview</th>\n",
              "      <th>title</th>\n",
              "    </tr>\n",
              "  </thead>\n",
              "  <tbody>\n",
              "    <tr>\n",
              "      <th>20730</th>\n",
              "      <td>173294</td>\n",
              "      <td>tt2006810</td>\n",
              "      <td>Following his ruin in the latest banking crisi...</td>\n",
              "      <td>Papadopoulos &amp; Sons</td>\n",
              "    </tr>\n",
              "    <tr>\n",
              "      <th>18900</th>\n",
              "      <td>242621</td>\n",
              "      <td>tt0037946</td>\n",
              "      <td>A Barbary Coast saloon owner hopes to marry hi...</td>\n",
              "      <td>Nob Hill</td>\n",
              "    </tr>\n",
              "    <tr>\n",
              "      <th>7596</th>\n",
              "      <td>25853</td>\n",
              "      <td>tt0285728</td>\n",
              "      <td>On February 15, 1992 in Milwaukee, Wisconsin, ...</td>\n",
              "      <td>Dahmer</td>\n",
              "    </tr>\n",
              "    <tr>\n",
              "      <th>23453</th>\n",
              "      <td>32929</td>\n",
              "      <td>tt0042219</td>\n",
              "      <td>When he's discharged from a military hospital,...</td>\n",
              "      <td>Backfire</td>\n",
              "    </tr>\n",
              "    <tr>\n",
              "      <th>8812</th>\n",
              "      <td>13633</td>\n",
              "      <td>tt0085210</td>\n",
              "      <td>Mick O'Brien is a young Chicago street thug to...</td>\n",
              "      <td>Bad Boys</td>\n",
              "    </tr>\n",
              "    <tr>\n",
              "      <th>14607</th>\n",
              "      <td>23963</td>\n",
              "      <td>tt1226681</td>\n",
              "      <td>When disc jockey Grant Mazzy reports to his ba...</td>\n",
              "      <td>Pontypool</td>\n",
              "    </tr>\n",
              "    <tr>\n",
              "      <th>25579</th>\n",
              "      <td>60119</td>\n",
              "      <td>tt0244196</td>\n",
              "      <td>A tough guy named Tommy Gunn, with \"kaos\" tatt...</td>\n",
              "      <td>Second Skin</td>\n",
              "    </tr>\n",
              "    <tr>\n",
              "      <th>20205</th>\n",
              "      <td>135200</td>\n",
              "      <td>tt1853555</td>\n",
              "      <td>Jennifer Carpenter, Kristen Connolly and Alexa...</td>\n",
              "      <td>Ex-Girlfriends</td>\n",
              "    </tr>\n",
              "    <tr>\n",
              "      <th>35915</th>\n",
              "      <td>190183</td>\n",
              "      <td>tt0031648</td>\n",
              "      <td>A confidence man pretending to be a mentalist ...</td>\n",
              "      <td>Midnight Shadow</td>\n",
              "    </tr>\n",
              "    <tr>\n",
              "      <th>12823</th>\n",
              "      <td>19244</td>\n",
              "      <td>tt1086340</td>\n",
              "      <td>The true-life story of a Harlem's notorious Ni...</td>\n",
              "      <td>Mr. Untouchable</td>\n",
              "    </tr>\n",
              "  </tbody>\n",
              "</table>\n",
              "</div>\n",
              "      <button class=\"colab-df-convert\" onclick=\"convertToInteractive('df-2b2717bc-1d39-4eb6-9920-35149551e5f0')\"\n",
              "              title=\"Convert this dataframe to an interactive table.\"\n",
              "              style=\"display:none;\">\n",
              "        \n",
              "  <svg xmlns=\"http://www.w3.org/2000/svg\" height=\"24px\"viewBox=\"0 0 24 24\"\n",
              "       width=\"24px\">\n",
              "    <path d=\"M0 0h24v24H0V0z\" fill=\"none\"/>\n",
              "    <path d=\"M18.56 5.44l.94 2.06.94-2.06 2.06-.94-2.06-.94-.94-2.06-.94 2.06-2.06.94zm-11 1L8.5 8.5l.94-2.06 2.06-.94-2.06-.94L8.5 2.5l-.94 2.06-2.06.94zm10 10l.94 2.06.94-2.06 2.06-.94-2.06-.94-.94-2.06-.94 2.06-2.06.94z\"/><path d=\"M17.41 7.96l-1.37-1.37c-.4-.4-.92-.59-1.43-.59-.52 0-1.04.2-1.43.59L10.3 9.45l-7.72 7.72c-.78.78-.78 2.05 0 2.83L4 21.41c.39.39.9.59 1.41.59.51 0 1.02-.2 1.41-.59l7.78-7.78 2.81-2.81c.8-.78.8-2.07 0-2.86zM5.41 20L4 18.59l7.72-7.72 1.47 1.35L5.41 20z\"/>\n",
              "  </svg>\n",
              "      </button>\n",
              "      \n",
              "  <style>\n",
              "    .colab-df-container {\n",
              "      display:flex;\n",
              "      flex-wrap:wrap;\n",
              "      gap: 12px;\n",
              "    }\n",
              "\n",
              "    .colab-df-convert {\n",
              "      background-color: #E8F0FE;\n",
              "      border: none;\n",
              "      border-radius: 50%;\n",
              "      cursor: pointer;\n",
              "      display: none;\n",
              "      fill: #1967D2;\n",
              "      height: 32px;\n",
              "      padding: 0 0 0 0;\n",
              "      width: 32px;\n",
              "    }\n",
              "\n",
              "    .colab-df-convert:hover {\n",
              "      background-color: #E2EBFA;\n",
              "      box-shadow: 0px 1px 2px rgba(60, 64, 67, 0.3), 0px 1px 3px 1px rgba(60, 64, 67, 0.15);\n",
              "      fill: #174EA6;\n",
              "    }\n",
              "\n",
              "    [theme=dark] .colab-df-convert {\n",
              "      background-color: #3B4455;\n",
              "      fill: #D2E3FC;\n",
              "    }\n",
              "\n",
              "    [theme=dark] .colab-df-convert:hover {\n",
              "      background-color: #434B5C;\n",
              "      box-shadow: 0px 1px 3px 1px rgba(0, 0, 0, 0.15);\n",
              "      filter: drop-shadow(0px 1px 2px rgba(0, 0, 0, 0.3));\n",
              "      fill: #FFFFFF;\n",
              "    }\n",
              "  </style>\n",
              "\n",
              "      <script>\n",
              "        const buttonEl =\n",
              "          document.querySelector('#df-2b2717bc-1d39-4eb6-9920-35149551e5f0 button.colab-df-convert');\n",
              "        buttonEl.style.display =\n",
              "          google.colab.kernel.accessAllowed ? 'block' : 'none';\n",
              "\n",
              "        async function convertToInteractive(key) {\n",
              "          const element = document.querySelector('#df-2b2717bc-1d39-4eb6-9920-35149551e5f0');\n",
              "          const dataTable =\n",
              "            await google.colab.kernel.invokeFunction('convertToInteractive',\n",
              "                                                     [key], {});\n",
              "          if (!dataTable) return;\n",
              "\n",
              "          const docLinkHtml = 'Like what you see? Visit the ' +\n",
              "            '<a target=\"_blank\" href=https://colab.research.google.com/notebooks/data_table.ipynb>data table notebook</a>'\n",
              "            + ' to learn more about interactive tables.';\n",
              "          element.innerHTML = '';\n",
              "          dataTable['output_type'] = 'display_data';\n",
              "          await google.colab.output.renderOutput(dataTable, element);\n",
              "          const docLink = document.createElement('div');\n",
              "          docLink.innerHTML = docLinkHtml;\n",
              "          element.appendChild(docLink);\n",
              "        }\n",
              "      </script>\n",
              "    </div>\n",
              "  </div>\n",
              "  "
            ]
          },
          "metadata": {},
          "execution_count": 179
        }
      ]
    },
    {
      "cell_type": "markdown",
      "source": [
        "## Задание 3"
      ],
      "metadata": {
        "id": "1smb9t1BJy1P"
      }
    },
    {
      "cell_type": "markdown",
      "source": [
        "Загрузим рейтинги"
      ],
      "metadata": {
        "id": "BQ9geydAq8d0"
      }
    },
    {
      "cell_type": "code",
      "metadata": {
        "id": "WXtmNkXLTCfF"
      },
      "source": [
        "ratings = pd.read_csv(\"ratings.csv\", low_memory=False)"
      ],
      "execution_count": null,
      "outputs": []
    },
    {
      "cell_type": "markdown",
      "source": [
        "Посчитаем строки"
      ],
      "metadata": {
        "id": "XY2Vh6P4q-7_"
      }
    },
    {
      "cell_type": "code",
      "source": [
        "print(f'Всего строк: {len(ratings)}')"
      ],
      "metadata": {
        "colab": {
          "base_uri": "https://localhost:8080/"
        },
        "id": "4q-OIsZ928Yr",
        "outputId": "4a22f73c-bdce-4e08-9b1b-56b59c870c31"
      },
      "execution_count": null,
      "outputs": [
        {
          "output_type": "stream",
          "name": "stdout",
          "text": [
            "Всего строк: 26024289\n"
          ]
        }
      ]
    },
    {
      "cell_type": "markdown",
      "source": [
        "Выведем 10 случайных"
      ],
      "metadata": {
        "id": "jMCIVJE3rDzJ"
      }
    },
    {
      "cell_type": "code",
      "metadata": {
        "colab": {
          "base_uri": "https://localhost:8080/",
          "height": 363
        },
        "id": "quIoezkBTGZZ",
        "outputId": "b1d2695e-f5da-4096-a9f4-5f3f88491c22"
      },
      "source": [
        "ratings.head(10)"
      ],
      "execution_count": null,
      "outputs": [
        {
          "output_type": "execute_result",
          "data": {
            "text/plain": [
              "   userId  movieId  rating   timestamp\n",
              "0       1      110     1.0  1425941529\n",
              "1       1      147     4.5  1425942435\n",
              "2       1      858     5.0  1425941523\n",
              "3       1     1221     5.0  1425941546\n",
              "4       1     1246     5.0  1425941556\n",
              "5       1     1968     4.0  1425942148\n",
              "6       1     2762     4.5  1425941300\n",
              "7       1     2918     5.0  1425941593\n",
              "8       1     2959     4.0  1425941601\n",
              "9       1     4226     4.0  1425942228"
            ],
            "text/html": [
              "\n",
              "  <div id=\"df-47690fcd-9eeb-4ec1-b4f5-367816f33dfd\">\n",
              "    <div class=\"colab-df-container\">\n",
              "      <div>\n",
              "<style scoped>\n",
              "    .dataframe tbody tr th:only-of-type {\n",
              "        vertical-align: middle;\n",
              "    }\n",
              "\n",
              "    .dataframe tbody tr th {\n",
              "        vertical-align: top;\n",
              "    }\n",
              "\n",
              "    .dataframe thead th {\n",
              "        text-align: right;\n",
              "    }\n",
              "</style>\n",
              "<table border=\"1\" class=\"dataframe\">\n",
              "  <thead>\n",
              "    <tr style=\"text-align: right;\">\n",
              "      <th></th>\n",
              "      <th>userId</th>\n",
              "      <th>movieId</th>\n",
              "      <th>rating</th>\n",
              "      <th>timestamp</th>\n",
              "    </tr>\n",
              "  </thead>\n",
              "  <tbody>\n",
              "    <tr>\n",
              "      <th>0</th>\n",
              "      <td>1</td>\n",
              "      <td>110</td>\n",
              "      <td>1.0</td>\n",
              "      <td>1425941529</td>\n",
              "    </tr>\n",
              "    <tr>\n",
              "      <th>1</th>\n",
              "      <td>1</td>\n",
              "      <td>147</td>\n",
              "      <td>4.5</td>\n",
              "      <td>1425942435</td>\n",
              "    </tr>\n",
              "    <tr>\n",
              "      <th>2</th>\n",
              "      <td>1</td>\n",
              "      <td>858</td>\n",
              "      <td>5.0</td>\n",
              "      <td>1425941523</td>\n",
              "    </tr>\n",
              "    <tr>\n",
              "      <th>3</th>\n",
              "      <td>1</td>\n",
              "      <td>1221</td>\n",
              "      <td>5.0</td>\n",
              "      <td>1425941546</td>\n",
              "    </tr>\n",
              "    <tr>\n",
              "      <th>4</th>\n",
              "      <td>1</td>\n",
              "      <td>1246</td>\n",
              "      <td>5.0</td>\n",
              "      <td>1425941556</td>\n",
              "    </tr>\n",
              "    <tr>\n",
              "      <th>5</th>\n",
              "      <td>1</td>\n",
              "      <td>1968</td>\n",
              "      <td>4.0</td>\n",
              "      <td>1425942148</td>\n",
              "    </tr>\n",
              "    <tr>\n",
              "      <th>6</th>\n",
              "      <td>1</td>\n",
              "      <td>2762</td>\n",
              "      <td>4.5</td>\n",
              "      <td>1425941300</td>\n",
              "    </tr>\n",
              "    <tr>\n",
              "      <th>7</th>\n",
              "      <td>1</td>\n",
              "      <td>2918</td>\n",
              "      <td>5.0</td>\n",
              "      <td>1425941593</td>\n",
              "    </tr>\n",
              "    <tr>\n",
              "      <th>8</th>\n",
              "      <td>1</td>\n",
              "      <td>2959</td>\n",
              "      <td>4.0</td>\n",
              "      <td>1425941601</td>\n",
              "    </tr>\n",
              "    <tr>\n",
              "      <th>9</th>\n",
              "      <td>1</td>\n",
              "      <td>4226</td>\n",
              "      <td>4.0</td>\n",
              "      <td>1425942228</td>\n",
              "    </tr>\n",
              "  </tbody>\n",
              "</table>\n",
              "</div>\n",
              "      <button class=\"colab-df-convert\" onclick=\"convertToInteractive('df-47690fcd-9eeb-4ec1-b4f5-367816f33dfd')\"\n",
              "              title=\"Convert this dataframe to an interactive table.\"\n",
              "              style=\"display:none;\">\n",
              "        \n",
              "  <svg xmlns=\"http://www.w3.org/2000/svg\" height=\"24px\"viewBox=\"0 0 24 24\"\n",
              "       width=\"24px\">\n",
              "    <path d=\"M0 0h24v24H0V0z\" fill=\"none\"/>\n",
              "    <path d=\"M18.56 5.44l.94 2.06.94-2.06 2.06-.94-2.06-.94-.94-2.06-.94 2.06-2.06.94zm-11 1L8.5 8.5l.94-2.06 2.06-.94-2.06-.94L8.5 2.5l-.94 2.06-2.06.94zm10 10l.94 2.06.94-2.06 2.06-.94-2.06-.94-.94-2.06-.94 2.06-2.06.94z\"/><path d=\"M17.41 7.96l-1.37-1.37c-.4-.4-.92-.59-1.43-.59-.52 0-1.04.2-1.43.59L10.3 9.45l-7.72 7.72c-.78.78-.78 2.05 0 2.83L4 21.41c.39.39.9.59 1.41.59.51 0 1.02-.2 1.41-.59l7.78-7.78 2.81-2.81c.8-.78.8-2.07 0-2.86zM5.41 20L4 18.59l7.72-7.72 1.47 1.35L5.41 20z\"/>\n",
              "  </svg>\n",
              "      </button>\n",
              "      \n",
              "  <style>\n",
              "    .colab-df-container {\n",
              "      display:flex;\n",
              "      flex-wrap:wrap;\n",
              "      gap: 12px;\n",
              "    }\n",
              "\n",
              "    .colab-df-convert {\n",
              "      background-color: #E8F0FE;\n",
              "      border: none;\n",
              "      border-radius: 50%;\n",
              "      cursor: pointer;\n",
              "      display: none;\n",
              "      fill: #1967D2;\n",
              "      height: 32px;\n",
              "      padding: 0 0 0 0;\n",
              "      width: 32px;\n",
              "    }\n",
              "\n",
              "    .colab-df-convert:hover {\n",
              "      background-color: #E2EBFA;\n",
              "      box-shadow: 0px 1px 2px rgba(60, 64, 67, 0.3), 0px 1px 3px 1px rgba(60, 64, 67, 0.15);\n",
              "      fill: #174EA6;\n",
              "    }\n",
              "\n",
              "    [theme=dark] .colab-df-convert {\n",
              "      background-color: #3B4455;\n",
              "      fill: #D2E3FC;\n",
              "    }\n",
              "\n",
              "    [theme=dark] .colab-df-convert:hover {\n",
              "      background-color: #434B5C;\n",
              "      box-shadow: 0px 1px 3px 1px rgba(0, 0, 0, 0.15);\n",
              "      filter: drop-shadow(0px 1px 2px rgba(0, 0, 0, 0.3));\n",
              "      fill: #FFFFFF;\n",
              "    }\n",
              "  </style>\n",
              "\n",
              "      <script>\n",
              "        const buttonEl =\n",
              "          document.querySelector('#df-47690fcd-9eeb-4ec1-b4f5-367816f33dfd button.colab-df-convert');\n",
              "        buttonEl.style.display =\n",
              "          google.colab.kernel.accessAllowed ? 'block' : 'none';\n",
              "\n",
              "        async function convertToInteractive(key) {\n",
              "          const element = document.querySelector('#df-47690fcd-9eeb-4ec1-b4f5-367816f33dfd');\n",
              "          const dataTable =\n",
              "            await google.colab.kernel.invokeFunction('convertToInteractive',\n",
              "                                                     [key], {});\n",
              "          if (!dataTable) return;\n",
              "\n",
              "          const docLinkHtml = 'Like what you see? Visit the ' +\n",
              "            '<a target=\"_blank\" href=https://colab.research.google.com/notebooks/data_table.ipynb>data table notebook</a>'\n",
              "            + ' to learn more about interactive tables.';\n",
              "          element.innerHTML = '';\n",
              "          dataTable['output_type'] = 'display_data';\n",
              "          await google.colab.output.renderOutput(dataTable, element);\n",
              "          const docLink = document.createElement('div');\n",
              "          docLink.innerHTML = docLinkHtml;\n",
              "          element.appendChild(docLink);\n",
              "        }\n",
              "      </script>\n",
              "    </div>\n",
              "  </div>\n",
              "  "
            ]
          },
          "metadata": {},
          "execution_count": 182
        }
      ]
    },
    {
      "cell_type": "code",
      "metadata": {
        "colab": {
          "base_uri": "https://localhost:8080/"
        },
        "id": "FUqUIWiQdlFG",
        "outputId": "2dc7b3be-9c52-4049-d951-2aeff16c07f0"
      },
      "source": [
        "ratings.info()"
      ],
      "execution_count": null,
      "outputs": [
        {
          "output_type": "stream",
          "name": "stdout",
          "text": [
            "<class 'pandas.core.frame.DataFrame'>\n",
            "RangeIndex: 26024289 entries, 0 to 26024288\n",
            "Data columns (total 4 columns):\n",
            " #   Column     Dtype  \n",
            "---  ------     -----  \n",
            " 0   userId     int64  \n",
            " 1   movieId    int64  \n",
            " 2   rating     float64\n",
            " 3   timestamp  int64  \n",
            "dtypes: float64(1), int64(3)\n",
            "memory usage: 794.2 MB\n"
          ]
        }
      ]
    },
    {
      "cell_type": "markdown",
      "source": [
        "Убедимся в отсутствии пропусков"
      ],
      "metadata": {
        "id": "5n60gzmGk3yu"
      }
    },
    {
      "cell_type": "code",
      "source": [
        "pd.isnull(ratings).sum()"
      ],
      "metadata": {
        "colab": {
          "base_uri": "https://localhost:8080/"
        },
        "id": "pifpWo3ckX2b",
        "outputId": "1b0a4293-acbe-4138-cb94-5fd449f2210f"
      },
      "execution_count": null,
      "outputs": [
        {
          "output_type": "execute_result",
          "data": {
            "text/plain": [
              "userId       0\n",
              "movieId      0\n",
              "rating       0\n",
              "timestamp    0\n",
              "dtype: int64"
            ]
          },
          "metadata": {},
          "execution_count": 184
        }
      ]
    },
    {
      "cell_type": "markdown",
      "source": [
        "Объедините датафреймы `metadata` и `ratings` в один. Обратите внимание, что `'id'` в  `metadata`, этот тот же самый идентификатор, что и `'movie_id'` в `ratings`. Объединять нужно по этому идентификатору (также обратите внимание на его тип данных)."
      ],
      "metadata": {
        "id": "0YKZ0PhV_2TI"
      }
    },
    {
      "cell_type": "markdown",
      "source": [
        "Приведем к нужному типу и объединим"
      ],
      "metadata": {
        "id": "bxzwg5l6rKP4"
      }
    },
    {
      "cell_type": "code",
      "source": [
        "metadata['id'] = metadata['id'].astype(np.int64)"
      ],
      "metadata": {
        "id": "jXmazUDcXvLz"
      },
      "execution_count": null,
      "outputs": []
    },
    {
      "cell_type": "code",
      "source": [
        "meta_new = metadata.rename(columns={\"id\": \"movieId\"})\n",
        "df = meta_new.merge(ratings, on='movieId')\n",
        "df"
      ],
      "metadata": {
        "colab": {
          "base_uri": "https://localhost:8080/",
          "height": 423
        },
        "id": "7atskB-Jev7K",
        "outputId": "d7d49a19-6712-497c-c9fb-3b749a176436"
      },
      "execution_count": null,
      "outputs": [
        {
          "output_type": "execute_result",
          "data": {
            "text/plain": [
              "          movieId    imdb_id  \\\n",
              "0             862  tt0114709   \n",
              "1             862  tt0114709   \n",
              "2             862  tt0114709   \n",
              "3             862  tt0114709   \n",
              "4             862  tt0114709   \n",
              "...           ...        ...   \n",
              "11361665   111109  tt2028550   \n",
              "11361666   111109  tt2028550   \n",
              "11361667   111109  tt2028550   \n",
              "11361668   111109  tt2028550   \n",
              "11361669   111109  tt2028550   \n",
              "\n",
              "                                                   overview  \\\n",
              "0         Led by Woody, Andy's toys live happily in his ...   \n",
              "1         Led by Woody, Andy's toys live happily in his ...   \n",
              "2         Led by Woody, Andy's toys live happily in his ...   \n",
              "3         Led by Woody, Andy's toys live happily in his ...   \n",
              "4         Led by Woody, Andy's toys live happily in his ...   \n",
              "...                                                     ...   \n",
              "11361665  An artist struggles to finish his work while a...   \n",
              "11361666  An artist struggles to finish his work while a...   \n",
              "11361667  An artist struggles to finish his work while a...   \n",
              "11361668  An artist struggles to finish his work while a...   \n",
              "11361669  An artist struggles to finish his work while a...   \n",
              "\n",
              "                        title  userId  rating   timestamp  \n",
              "0                   Toy Story    1923     3.0   858335006  \n",
              "1                   Toy Story    2103     5.0   946044912  \n",
              "2                   Toy Story    5380     1.0   878941641  \n",
              "3                   Toy Story    6177     4.0   859415226  \n",
              "4                   Toy Story    6525     4.0   857388995  \n",
              "...                       ...     ...     ...         ...  \n",
              "11361665  Century of Birthing   33940     2.5  1405878785  \n",
              "11361666  Century of Birthing  172224     3.0  1399502972  \n",
              "11361667  Century of Birthing  210792     3.0  1467090449  \n",
              "11361668  Century of Birthing  225396     3.5  1399302912  \n",
              "11361669  Century of Birthing  269593     0.5  1471835519  \n",
              "\n",
              "[11361670 rows x 7 columns]"
            ],
            "text/html": [
              "\n",
              "  <div id=\"df-d918fbb6-c7f1-4a8d-ae2a-e14e9f8367a2\">\n",
              "    <div class=\"colab-df-container\">\n",
              "      <div>\n",
              "<style scoped>\n",
              "    .dataframe tbody tr th:only-of-type {\n",
              "        vertical-align: middle;\n",
              "    }\n",
              "\n",
              "    .dataframe tbody tr th {\n",
              "        vertical-align: top;\n",
              "    }\n",
              "\n",
              "    .dataframe thead th {\n",
              "        text-align: right;\n",
              "    }\n",
              "</style>\n",
              "<table border=\"1\" class=\"dataframe\">\n",
              "  <thead>\n",
              "    <tr style=\"text-align: right;\">\n",
              "      <th></th>\n",
              "      <th>movieId</th>\n",
              "      <th>imdb_id</th>\n",
              "      <th>overview</th>\n",
              "      <th>title</th>\n",
              "      <th>userId</th>\n",
              "      <th>rating</th>\n",
              "      <th>timestamp</th>\n",
              "    </tr>\n",
              "  </thead>\n",
              "  <tbody>\n",
              "    <tr>\n",
              "      <th>0</th>\n",
              "      <td>862</td>\n",
              "      <td>tt0114709</td>\n",
              "      <td>Led by Woody, Andy's toys live happily in his ...</td>\n",
              "      <td>Toy Story</td>\n",
              "      <td>1923</td>\n",
              "      <td>3.0</td>\n",
              "      <td>858335006</td>\n",
              "    </tr>\n",
              "    <tr>\n",
              "      <th>1</th>\n",
              "      <td>862</td>\n",
              "      <td>tt0114709</td>\n",
              "      <td>Led by Woody, Andy's toys live happily in his ...</td>\n",
              "      <td>Toy Story</td>\n",
              "      <td>2103</td>\n",
              "      <td>5.0</td>\n",
              "      <td>946044912</td>\n",
              "    </tr>\n",
              "    <tr>\n",
              "      <th>2</th>\n",
              "      <td>862</td>\n",
              "      <td>tt0114709</td>\n",
              "      <td>Led by Woody, Andy's toys live happily in his ...</td>\n",
              "      <td>Toy Story</td>\n",
              "      <td>5380</td>\n",
              "      <td>1.0</td>\n",
              "      <td>878941641</td>\n",
              "    </tr>\n",
              "    <tr>\n",
              "      <th>3</th>\n",
              "      <td>862</td>\n",
              "      <td>tt0114709</td>\n",
              "      <td>Led by Woody, Andy's toys live happily in his ...</td>\n",
              "      <td>Toy Story</td>\n",
              "      <td>6177</td>\n",
              "      <td>4.0</td>\n",
              "      <td>859415226</td>\n",
              "    </tr>\n",
              "    <tr>\n",
              "      <th>4</th>\n",
              "      <td>862</td>\n",
              "      <td>tt0114709</td>\n",
              "      <td>Led by Woody, Andy's toys live happily in his ...</td>\n",
              "      <td>Toy Story</td>\n",
              "      <td>6525</td>\n",
              "      <td>4.0</td>\n",
              "      <td>857388995</td>\n",
              "    </tr>\n",
              "    <tr>\n",
              "      <th>...</th>\n",
              "      <td>...</td>\n",
              "      <td>...</td>\n",
              "      <td>...</td>\n",
              "      <td>...</td>\n",
              "      <td>...</td>\n",
              "      <td>...</td>\n",
              "      <td>...</td>\n",
              "    </tr>\n",
              "    <tr>\n",
              "      <th>11361665</th>\n",
              "      <td>111109</td>\n",
              "      <td>tt2028550</td>\n",
              "      <td>An artist struggles to finish his work while a...</td>\n",
              "      <td>Century of Birthing</td>\n",
              "      <td>33940</td>\n",
              "      <td>2.5</td>\n",
              "      <td>1405878785</td>\n",
              "    </tr>\n",
              "    <tr>\n",
              "      <th>11361666</th>\n",
              "      <td>111109</td>\n",
              "      <td>tt2028550</td>\n",
              "      <td>An artist struggles to finish his work while a...</td>\n",
              "      <td>Century of Birthing</td>\n",
              "      <td>172224</td>\n",
              "      <td>3.0</td>\n",
              "      <td>1399502972</td>\n",
              "    </tr>\n",
              "    <tr>\n",
              "      <th>11361667</th>\n",
              "      <td>111109</td>\n",
              "      <td>tt2028550</td>\n",
              "      <td>An artist struggles to finish his work while a...</td>\n",
              "      <td>Century of Birthing</td>\n",
              "      <td>210792</td>\n",
              "      <td>3.0</td>\n",
              "      <td>1467090449</td>\n",
              "    </tr>\n",
              "    <tr>\n",
              "      <th>11361668</th>\n",
              "      <td>111109</td>\n",
              "      <td>tt2028550</td>\n",
              "      <td>An artist struggles to finish his work while a...</td>\n",
              "      <td>Century of Birthing</td>\n",
              "      <td>225396</td>\n",
              "      <td>3.5</td>\n",
              "      <td>1399302912</td>\n",
              "    </tr>\n",
              "    <tr>\n",
              "      <th>11361669</th>\n",
              "      <td>111109</td>\n",
              "      <td>tt2028550</td>\n",
              "      <td>An artist struggles to finish his work while a...</td>\n",
              "      <td>Century of Birthing</td>\n",
              "      <td>269593</td>\n",
              "      <td>0.5</td>\n",
              "      <td>1471835519</td>\n",
              "    </tr>\n",
              "  </tbody>\n",
              "</table>\n",
              "<p>11361670 rows × 7 columns</p>\n",
              "</div>\n",
              "      <button class=\"colab-df-convert\" onclick=\"convertToInteractive('df-d918fbb6-c7f1-4a8d-ae2a-e14e9f8367a2')\"\n",
              "              title=\"Convert this dataframe to an interactive table.\"\n",
              "              style=\"display:none;\">\n",
              "        \n",
              "  <svg xmlns=\"http://www.w3.org/2000/svg\" height=\"24px\"viewBox=\"0 0 24 24\"\n",
              "       width=\"24px\">\n",
              "    <path d=\"M0 0h24v24H0V0z\" fill=\"none\"/>\n",
              "    <path d=\"M18.56 5.44l.94 2.06.94-2.06 2.06-.94-2.06-.94-.94-2.06-.94 2.06-2.06.94zm-11 1L8.5 8.5l.94-2.06 2.06-.94-2.06-.94L8.5 2.5l-.94 2.06-2.06.94zm10 10l.94 2.06.94-2.06 2.06-.94-2.06-.94-.94-2.06-.94 2.06-2.06.94z\"/><path d=\"M17.41 7.96l-1.37-1.37c-.4-.4-.92-.59-1.43-.59-.52 0-1.04.2-1.43.59L10.3 9.45l-7.72 7.72c-.78.78-.78 2.05 0 2.83L4 21.41c.39.39.9.59 1.41.59.51 0 1.02-.2 1.41-.59l7.78-7.78 2.81-2.81c.8-.78.8-2.07 0-2.86zM5.41 20L4 18.59l7.72-7.72 1.47 1.35L5.41 20z\"/>\n",
              "  </svg>\n",
              "      </button>\n",
              "      \n",
              "  <style>\n",
              "    .colab-df-container {\n",
              "      display:flex;\n",
              "      flex-wrap:wrap;\n",
              "      gap: 12px;\n",
              "    }\n",
              "\n",
              "    .colab-df-convert {\n",
              "      background-color: #E8F0FE;\n",
              "      border: none;\n",
              "      border-radius: 50%;\n",
              "      cursor: pointer;\n",
              "      display: none;\n",
              "      fill: #1967D2;\n",
              "      height: 32px;\n",
              "      padding: 0 0 0 0;\n",
              "      width: 32px;\n",
              "    }\n",
              "\n",
              "    .colab-df-convert:hover {\n",
              "      background-color: #E2EBFA;\n",
              "      box-shadow: 0px 1px 2px rgba(60, 64, 67, 0.3), 0px 1px 3px 1px rgba(60, 64, 67, 0.15);\n",
              "      fill: #174EA6;\n",
              "    }\n",
              "\n",
              "    [theme=dark] .colab-df-convert {\n",
              "      background-color: #3B4455;\n",
              "      fill: #D2E3FC;\n",
              "    }\n",
              "\n",
              "    [theme=dark] .colab-df-convert:hover {\n",
              "      background-color: #434B5C;\n",
              "      box-shadow: 0px 1px 3px 1px rgba(0, 0, 0, 0.15);\n",
              "      filter: drop-shadow(0px 1px 2px rgba(0, 0, 0, 0.3));\n",
              "      fill: #FFFFFF;\n",
              "    }\n",
              "  </style>\n",
              "\n",
              "      <script>\n",
              "        const buttonEl =\n",
              "          document.querySelector('#df-d918fbb6-c7f1-4a8d-ae2a-e14e9f8367a2 button.colab-df-convert');\n",
              "        buttonEl.style.display =\n",
              "          google.colab.kernel.accessAllowed ? 'block' : 'none';\n",
              "\n",
              "        async function convertToInteractive(key) {\n",
              "          const element = document.querySelector('#df-d918fbb6-c7f1-4a8d-ae2a-e14e9f8367a2');\n",
              "          const dataTable =\n",
              "            await google.colab.kernel.invokeFunction('convertToInteractive',\n",
              "                                                     [key], {});\n",
              "          if (!dataTable) return;\n",
              "\n",
              "          const docLinkHtml = 'Like what you see? Visit the ' +\n",
              "            '<a target=\"_blank\" href=https://colab.research.google.com/notebooks/data_table.ipynb>data table notebook</a>'\n",
              "            + ' to learn more about interactive tables.';\n",
              "          element.innerHTML = '';\n",
              "          dataTable['output_type'] = 'display_data';\n",
              "          await google.colab.output.renderOutput(dataTable, element);\n",
              "          const docLink = document.createElement('div');\n",
              "          docLink.innerHTML = docLinkHtml;\n",
              "          element.appendChild(docLink);\n",
              "        }\n",
              "      </script>\n",
              "    </div>\n",
              "  </div>\n",
              "  "
            ]
          },
          "metadata": {},
          "execution_count": 186
        }
      ]
    },
    {
      "cell_type": "markdown",
      "source": [
        "## Задание 4"
      ],
      "metadata": {
        "id": "9paMCSNcBAlE"
      }
    },
    {
      "cell_type": "markdown",
      "source": [
        "Появились ли пропуски в получившемся после объединения датафрейме? Если появились, то ответьте на вопрос \"почему?\" и удалите строки с пропусками."
      ],
      "metadata": {
        "id": "5FN7L7HYmoQn"
      }
    },
    {
      "cell_type": "code",
      "source": [
        "df.isnull().sum()"
      ],
      "metadata": {
        "colab": {
          "base_uri": "https://localhost:8080/"
        },
        "id": "nU91KHqa8dVR",
        "outputId": "9e496fd5-4707-40cd-b375-00b3678acd45"
      },
      "execution_count": null,
      "outputs": [
        {
          "output_type": "execute_result",
          "data": {
            "text/plain": [
              "movieId       0\n",
              "imdb_id      47\n",
              "overview      0\n",
              "title         0\n",
              "userId        0\n",
              "rating        0\n",
              "timestamp     0\n",
              "dtype: int64"
            ]
          },
          "metadata": {},
          "execution_count": 187
        }
      ]
    },
    {
      "cell_type": "markdown",
      "source": [
        "Заметим, что в столбце 'imdb_id' появилось 47 пропусков. Можно предположить, что причиной этого стало наличие пропусков в исходном датасете в столбце 'imdb_id'. При процедуре объединения двух датасетов могут мерджиться строки, как раз содержащие пропуски, что и является следствием их возникновения в новом датасете. Убедимся, что в metadata действительно имеются пропуски в столбце 'imdb_id':"
      ],
      "metadata": {
        "id": "P11LICs39ZrD"
      }
    },
    {
      "cell_type": "code",
      "source": [
        "metadata.isnull().sum()"
      ],
      "metadata": {
        "id": "F8wXFWsr9ba_",
        "outputId": "81d79ebd-c4e8-426f-e8f7-d0f540f82693",
        "colab": {
          "base_uri": "https://localhost:8080/"
        }
      },
      "execution_count": null,
      "outputs": [
        {
          "output_type": "execute_result",
          "data": {
            "text/plain": [
              "id           0\n",
              "imdb_id     15\n",
              "overview     0\n",
              "title        3\n",
              "dtype: int64"
            ]
          },
          "metadata": {},
          "execution_count": 188
        }
      ]
    },
    {
      "cell_type": "markdown",
      "source": [
        "Видно, что в искомом столбце содержится 15 пропусков для 'imdb_id'. Наше предположение подтвердилось. Удалим эти строки:"
      ],
      "metadata": {
        "id": "Izp3Ta0a9jdy"
      }
    },
    {
      "cell_type": "code",
      "source": [
        "print(f'Размер датафрейма до удаления: {df.shape}')\n",
        "df = df[pd.notnull(df.imdb_id)]"
      ],
      "metadata": {
        "colab": {
          "base_uri": "https://localhost:8080/"
        },
        "id": "u90o4vCP-sdi",
        "outputId": "1563e6bd-f22a-4be0-bd14-24a34772114e"
      },
      "execution_count": null,
      "outputs": [
        {
          "output_type": "stream",
          "name": "stdout",
          "text": [
            "Размер датафрейма до удаления: (11361670, 7)\n"
          ]
        }
      ]
    },
    {
      "cell_type": "markdown",
      "source": [
        "Выведите размеры получившегося датафрейма и 10 случайных записей в нём."
      ],
      "metadata": {
        "id": "hDI20y3U8Zjf"
      }
    },
    {
      "cell_type": "code",
      "source": [
        "print(f'Размер датафрейма после удаления: {df.shape}')"
      ],
      "metadata": {
        "colab": {
          "base_uri": "https://localhost:8080/"
        },
        "id": "pQFw9bGu-avH",
        "outputId": "48546b57-cb07-4091-8165-bcc127a6245f"
      },
      "execution_count": null,
      "outputs": [
        {
          "output_type": "stream",
          "name": "stdout",
          "text": [
            "Размер датафрейма после удаления: (11361623, 7)\n"
          ]
        }
      ]
    },
    {
      "cell_type": "code",
      "source": [
        "df.sample(10)"
      ],
      "metadata": {
        "colab": {
          "base_uri": "https://localhost:8080/",
          "height": 363
        },
        "id": "fMGeBrxd5jIw",
        "outputId": "086c9393-3611-4005-b07f-b2d72490e62b"
      },
      "execution_count": null,
      "outputs": [
        {
          "output_type": "execute_result",
          "data": {
            "text/plain": [
              "         movieId    imdb_id  \\\n",
              "2067844      466  tt0067309   \n",
              "3663896     1552  tt0098067   \n",
              "5683664       22  tt0325980   \n",
              "8963970     1127  tt0434292   \n",
              "3299512     1213  tt0134119   \n",
              "1608         949  tt0113277   \n",
              "1699729     1968  tt0119141   \n",
              "5752346    26246  tt0104504   \n",
              "6732108      435  tt0319262   \n",
              "7886592     5620  tt0065569   \n",
              "\n",
              "                                                  overview  \\\n",
              "2067844  This acclaimed thriller stars Jane Fonda as Br...   \n",
              "3663896  The story of the Buckman family and friends, a...   \n",
              "5683664  Jack Sparrow, a freewheeling 17th-century pira...   \n",
              "8963970  Set in Spain, the story is about friendship an...   \n",
              "3299512  Tom Ripley is a calculating young man who beli...   \n",
              "1608     Obsessive master thief, Neil McCauley leads a ...   \n",
              "1699729  Alex Whitman (Matthew Perry) is a designer fro...   \n",
              "5752346  On June 26, 1975, during a period of high tens...   \n",
              "6732108  After years of increases in the greenhouse eff...   \n",
              "7886592  Jess Franco's version of the Bram Stoker class...   \n",
              "\n",
              "                                                     title  userId  rating  \\\n",
              "2067844                                              Klute   33121     2.5   \n",
              "3663896                                         Parenthood   81717     1.5   \n",
              "5683664  Pirates of the Caribbean: The Curse of the Bla...    8868     3.0   \n",
              "8963970                                         Princesses  130708     5.0   \n",
              "3299512                            The Talented Mr. Ripley  268392     3.0   \n",
              "1608                                                  Heat  127486     3.5   \n",
              "1699729                                      Fools Rush In   92676     4.5   \n",
              "5752346                                 Incident at Oglala   45908     3.5   \n",
              "6732108                             The Day After Tomorrow   61471     3.0   \n",
              "7886592                                      Count Dracula  233951     2.5   \n",
              "\n",
              "          timestamp  \n",
              "2067844  1148077181  \n",
              "3663896  1442596800  \n",
              "5683664   840442467  \n",
              "8963970   952798242  \n",
              "3299512  1424342358  \n",
              "1608     1357855534  \n",
              "1699729  1160286731  \n",
              "5752346  1262563442  \n",
              "6732108   837607776  \n",
              "7886592  1124219790  "
            ],
            "text/html": [
              "\n",
              "  <div id=\"df-bad7ad86-715e-436f-bcbc-e7edae248552\">\n",
              "    <div class=\"colab-df-container\">\n",
              "      <div>\n",
              "<style scoped>\n",
              "    .dataframe tbody tr th:only-of-type {\n",
              "        vertical-align: middle;\n",
              "    }\n",
              "\n",
              "    .dataframe tbody tr th {\n",
              "        vertical-align: top;\n",
              "    }\n",
              "\n",
              "    .dataframe thead th {\n",
              "        text-align: right;\n",
              "    }\n",
              "</style>\n",
              "<table border=\"1\" class=\"dataframe\">\n",
              "  <thead>\n",
              "    <tr style=\"text-align: right;\">\n",
              "      <th></th>\n",
              "      <th>movieId</th>\n",
              "      <th>imdb_id</th>\n",
              "      <th>overview</th>\n",
              "      <th>title</th>\n",
              "      <th>userId</th>\n",
              "      <th>rating</th>\n",
              "      <th>timestamp</th>\n",
              "    </tr>\n",
              "  </thead>\n",
              "  <tbody>\n",
              "    <tr>\n",
              "      <th>2067844</th>\n",
              "      <td>466</td>\n",
              "      <td>tt0067309</td>\n",
              "      <td>This acclaimed thriller stars Jane Fonda as Br...</td>\n",
              "      <td>Klute</td>\n",
              "      <td>33121</td>\n",
              "      <td>2.5</td>\n",
              "      <td>1148077181</td>\n",
              "    </tr>\n",
              "    <tr>\n",
              "      <th>3663896</th>\n",
              "      <td>1552</td>\n",
              "      <td>tt0098067</td>\n",
              "      <td>The story of the Buckman family and friends, a...</td>\n",
              "      <td>Parenthood</td>\n",
              "      <td>81717</td>\n",
              "      <td>1.5</td>\n",
              "      <td>1442596800</td>\n",
              "    </tr>\n",
              "    <tr>\n",
              "      <th>5683664</th>\n",
              "      <td>22</td>\n",
              "      <td>tt0325980</td>\n",
              "      <td>Jack Sparrow, a freewheeling 17th-century pira...</td>\n",
              "      <td>Pirates of the Caribbean: The Curse of the Bla...</td>\n",
              "      <td>8868</td>\n",
              "      <td>3.0</td>\n",
              "      <td>840442467</td>\n",
              "    </tr>\n",
              "    <tr>\n",
              "      <th>8963970</th>\n",
              "      <td>1127</td>\n",
              "      <td>tt0434292</td>\n",
              "      <td>Set in Spain, the story is about friendship an...</td>\n",
              "      <td>Princesses</td>\n",
              "      <td>130708</td>\n",
              "      <td>5.0</td>\n",
              "      <td>952798242</td>\n",
              "    </tr>\n",
              "    <tr>\n",
              "      <th>3299512</th>\n",
              "      <td>1213</td>\n",
              "      <td>tt0134119</td>\n",
              "      <td>Tom Ripley is a calculating young man who beli...</td>\n",
              "      <td>The Talented Mr. Ripley</td>\n",
              "      <td>268392</td>\n",
              "      <td>3.0</td>\n",
              "      <td>1424342358</td>\n",
              "    </tr>\n",
              "    <tr>\n",
              "      <th>1608</th>\n",
              "      <td>949</td>\n",
              "      <td>tt0113277</td>\n",
              "      <td>Obsessive master thief, Neil McCauley leads a ...</td>\n",
              "      <td>Heat</td>\n",
              "      <td>127486</td>\n",
              "      <td>3.5</td>\n",
              "      <td>1357855534</td>\n",
              "    </tr>\n",
              "    <tr>\n",
              "      <th>1699729</th>\n",
              "      <td>1968</td>\n",
              "      <td>tt0119141</td>\n",
              "      <td>Alex Whitman (Matthew Perry) is a designer fro...</td>\n",
              "      <td>Fools Rush In</td>\n",
              "      <td>92676</td>\n",
              "      <td>4.5</td>\n",
              "      <td>1160286731</td>\n",
              "    </tr>\n",
              "    <tr>\n",
              "      <th>5752346</th>\n",
              "      <td>26246</td>\n",
              "      <td>tt0104504</td>\n",
              "      <td>On June 26, 1975, during a period of high tens...</td>\n",
              "      <td>Incident at Oglala</td>\n",
              "      <td>45908</td>\n",
              "      <td>3.5</td>\n",
              "      <td>1262563442</td>\n",
              "    </tr>\n",
              "    <tr>\n",
              "      <th>6732108</th>\n",
              "      <td>435</td>\n",
              "      <td>tt0319262</td>\n",
              "      <td>After years of increases in the greenhouse eff...</td>\n",
              "      <td>The Day After Tomorrow</td>\n",
              "      <td>61471</td>\n",
              "      <td>3.0</td>\n",
              "      <td>837607776</td>\n",
              "    </tr>\n",
              "    <tr>\n",
              "      <th>7886592</th>\n",
              "      <td>5620</td>\n",
              "      <td>tt0065569</td>\n",
              "      <td>Jess Franco's version of the Bram Stoker class...</td>\n",
              "      <td>Count Dracula</td>\n",
              "      <td>233951</td>\n",
              "      <td>2.5</td>\n",
              "      <td>1124219790</td>\n",
              "    </tr>\n",
              "  </tbody>\n",
              "</table>\n",
              "</div>\n",
              "      <button class=\"colab-df-convert\" onclick=\"convertToInteractive('df-bad7ad86-715e-436f-bcbc-e7edae248552')\"\n",
              "              title=\"Convert this dataframe to an interactive table.\"\n",
              "              style=\"display:none;\">\n",
              "        \n",
              "  <svg xmlns=\"http://www.w3.org/2000/svg\" height=\"24px\"viewBox=\"0 0 24 24\"\n",
              "       width=\"24px\">\n",
              "    <path d=\"M0 0h24v24H0V0z\" fill=\"none\"/>\n",
              "    <path d=\"M18.56 5.44l.94 2.06.94-2.06 2.06-.94-2.06-.94-.94-2.06-.94 2.06-2.06.94zm-11 1L8.5 8.5l.94-2.06 2.06-.94-2.06-.94L8.5 2.5l-.94 2.06-2.06.94zm10 10l.94 2.06.94-2.06 2.06-.94-2.06-.94-.94-2.06-.94 2.06-2.06.94z\"/><path d=\"M17.41 7.96l-1.37-1.37c-.4-.4-.92-.59-1.43-.59-.52 0-1.04.2-1.43.59L10.3 9.45l-7.72 7.72c-.78.78-.78 2.05 0 2.83L4 21.41c.39.39.9.59 1.41.59.51 0 1.02-.2 1.41-.59l7.78-7.78 2.81-2.81c.8-.78.8-2.07 0-2.86zM5.41 20L4 18.59l7.72-7.72 1.47 1.35L5.41 20z\"/>\n",
              "  </svg>\n",
              "      </button>\n",
              "      \n",
              "  <style>\n",
              "    .colab-df-container {\n",
              "      display:flex;\n",
              "      flex-wrap:wrap;\n",
              "      gap: 12px;\n",
              "    }\n",
              "\n",
              "    .colab-df-convert {\n",
              "      background-color: #E8F0FE;\n",
              "      border: none;\n",
              "      border-radius: 50%;\n",
              "      cursor: pointer;\n",
              "      display: none;\n",
              "      fill: #1967D2;\n",
              "      height: 32px;\n",
              "      padding: 0 0 0 0;\n",
              "      width: 32px;\n",
              "    }\n",
              "\n",
              "    .colab-df-convert:hover {\n",
              "      background-color: #E2EBFA;\n",
              "      box-shadow: 0px 1px 2px rgba(60, 64, 67, 0.3), 0px 1px 3px 1px rgba(60, 64, 67, 0.15);\n",
              "      fill: #174EA6;\n",
              "    }\n",
              "\n",
              "    [theme=dark] .colab-df-convert {\n",
              "      background-color: #3B4455;\n",
              "      fill: #D2E3FC;\n",
              "    }\n",
              "\n",
              "    [theme=dark] .colab-df-convert:hover {\n",
              "      background-color: #434B5C;\n",
              "      box-shadow: 0px 1px 3px 1px rgba(0, 0, 0, 0.15);\n",
              "      filter: drop-shadow(0px 1px 2px rgba(0, 0, 0, 0.3));\n",
              "      fill: #FFFFFF;\n",
              "    }\n",
              "  </style>\n",
              "\n",
              "      <script>\n",
              "        const buttonEl =\n",
              "          document.querySelector('#df-bad7ad86-715e-436f-bcbc-e7edae248552 button.colab-df-convert');\n",
              "        buttonEl.style.display =\n",
              "          google.colab.kernel.accessAllowed ? 'block' : 'none';\n",
              "\n",
              "        async function convertToInteractive(key) {\n",
              "          const element = document.querySelector('#df-bad7ad86-715e-436f-bcbc-e7edae248552');\n",
              "          const dataTable =\n",
              "            await google.colab.kernel.invokeFunction('convertToInteractive',\n",
              "                                                     [key], {});\n",
              "          if (!dataTable) return;\n",
              "\n",
              "          const docLinkHtml = 'Like what you see? Visit the ' +\n",
              "            '<a target=\"_blank\" href=https://colab.research.google.com/notebooks/data_table.ipynb>data table notebook</a>'\n",
              "            + ' to learn more about interactive tables.';\n",
              "          element.innerHTML = '';\n",
              "          dataTable['output_type'] = 'display_data';\n",
              "          await google.colab.output.renderOutput(dataTable, element);\n",
              "          const docLink = document.createElement('div');\n",
              "          docLink.innerHTML = docLinkHtml;\n",
              "          element.appendChild(docLink);\n",
              "        }\n",
              "      </script>\n",
              "    </div>\n",
              "  </div>\n",
              "  "
            ]
          },
          "metadata": {},
          "execution_count": 191
        }
      ]
    },
    {
      "cell_type": "markdown",
      "source": [
        "## Задание 5"
      ],
      "metadata": {
        "id": "JlBSFBYfDqCH"
      }
    },
    {
      "cell_type": "markdown",
      "source": [
        "Возьмите случайного пользователя (проверьте, чтобы у него было достаточное количество оценок). Сформируйте для этого пользователя рекомендацию методом коллаборативной фильтрации. Оцените качество это рекомендации.\n",
        "\n",
        "\n",
        "Повторите эти рассчеты для большого числа пользователей и дайте интегральную оценку."
      ],
      "metadata": {
        "id": "p1_Gjtmgnoc6"
      }
    },
    {
      "cell_type": "markdown",
      "source": [
        "Построи Коллаборативную фильтрацию по сходству, основанному на евклидовом расстоянии"
      ],
      "metadata": {
        "id": "V2DQeoK0rUCB"
      }
    },
    {
      "cell_type": "code",
      "source": [
        "class Collaborative:\n",
        "  def __init__(self, dataframe):\n",
        "    self.dataframe = dataframe\n",
        "    self.user_list = dataframe['userId'].unique()\n",
        "    self.user_ratings = {userId: self.get_ratings(userId) for userId in self.user_list}\n",
        "    self.movies = dict(df[['movieId', 'title']].groupby(['movieId', 'title']).count().reset_index().values.tolist())\n",
        "\n",
        "  def get_ratings(self, userId):\n",
        "    user_df = self.dataframe.query(f'userId == {userId}')\n",
        "    return dict(zip(user_df['movieId'], user_df['rating']))\n",
        "\n",
        "  def euclid_distance(self, x, y, power=2):\n",
        "    distance = 0\n",
        "    for x_value, y_value in zip(x, y):\n",
        "        distance += (x_value - y_value) ** power\n",
        "    return distance ** (1 / power)\n",
        "\n",
        "  def similarity_distance(self, movies_dataframe):\n",
        "    if len(movies_dataframe) == 0:\n",
        "        return 0\n",
        "    return 1 / (1 + self.euclid_distance(movies_dataframe['rating_first'], movies_dataframe['rating_second']))\n",
        "\n",
        "  def remove_user(self, user):\n",
        "        return list(set(self.user_list) - set([user]))\n",
        "\n",
        "  def common_movies(self, first_user, second_user):\n",
        "      movies_first_user = self.user_ratings[first_user]\n",
        "      movies_second_user = self.user_ratings[second_user]\n",
        "      return pd.merge(\n",
        "          pd.DataFrame(data={'movieId': movies_first_user.keys(), 'rating': movies_first_user.values()}),\n",
        "          pd.DataFrame(data={'movieId': movies_second_user.keys(), 'rating': movies_second_user.values()}),\n",
        "          on='movieId',\n",
        "          suffixes=['_first', '_second']\n",
        "      )\n",
        "\n",
        "  def similarities(self, user):\n",
        "      users = self.remove_user(user)\n",
        "      return {cur_user: self.similarity_distance(self.common_movies(user, cur_user)) for cur_user in users}\n",
        "\n",
        "  def other_movies_of_user(self, user_first, user_second):\n",
        "      return {movieId: rating for movieId, rating in self.user_ratings[user_second].items()\n",
        "                  if movieId not in self.user_ratings[user_first]}\n",
        "\n",
        "  def other_movies(self, user):\n",
        "      users = self.remove_user(user)\n",
        "      return {cur_user: self.other_movies_of_user(user, cur_user) for cur_user in users}\n",
        "\n",
        "  def recommendations(self, user):\n",
        "      similarities = self.similarities(user)\n",
        "      other_movies = self.other_movies(user)\n",
        "\n",
        "      recommendations = dict()\n",
        "      total_similarities = dict()\n",
        "      for cur_user, movies in other_movies.items():\n",
        "          for movieId, rating in movies.items():\n",
        "              recommendations.setdefault(movieId, 0)\n",
        "              recommendations[movieId] += similarities[cur_user] * rating\n",
        "              total_similarities.setdefault(movieId, 0)\n",
        "              total_similarities[movieId] += similarities[cur_user]\n",
        "      recommendations = {movieId: rating / total_similarities[movieId]\n",
        "                        for movieId, rating in recommendations.items()}\n",
        "      ans = dict(sorted(recommendations.items(), key=lambda x: x[1], reverse=True))\n",
        "      return [{'movieId': key, 'rating': value, 'title': self.movies[key]} for key, value in ans.items()]"
      ],
      "metadata": {
        "id": "HS-d3XhKWfug"
      },
      "execution_count": null,
      "outputs": []
    },
    {
      "cell_type": "markdown",
      "source": [
        "Выделим нужные столбцы"
      ],
      "metadata": {
        "id": "YqQBr51jr2J6"
      }
    },
    {
      "cell_type": "code",
      "source": [
        "data_df = df[['userId', 'movieId', 'rating', 'title', 'overview']]"
      ],
      "metadata": {
        "id": "buKGC2xl781A"
      },
      "execution_count": null,
      "outputs": []
    },
    {
      "cell_type": "markdown",
      "source": [
        "Для процесса обучения возьмем 500 пользователей, давшими наибольшое количество оценок. На основе полученного датасета будем обучать наши данные и делать рекоммендации. Также выберем пользователя, давшего наибольшее число оценок"
      ],
      "metadata": {
        "id": "Pz9rRaIMr9uy"
      }
    },
    {
      "cell_type": "code",
      "source": [
        "top_500_users = data_df['userId'].value_counts().head(500).index.values\n",
        "user = top_500_users[0]\n",
        "ratings_count = len(data_df.query(f'userId == {user}'))\n",
        "print(f'Пользователь давший наибольшее число оценок - {user}')\n",
        "print(f'Количество оценок пользователя: {ratings_count}')\n",
        "df_5 = data_df[data_df['userId'].isin(top_500_users)].reset_index(drop=True)"
      ],
      "metadata": {
        "colab": {
          "base_uri": "https://localhost:8080/"
        },
        "id": "A94nxH-Q8Qid",
        "outputId": "bb5b7985-2174-4f70-8fef-f97489019714"
      },
      "execution_count": null,
      "outputs": [
        {
          "output_type": "stream",
          "name": "stdout",
          "text": [
            "Пользователь давший наибольшее число оценок - 45811\n",
            "Количество оценок пользователя: 3521\n"
          ]
        }
      ]
    },
    {
      "cell_type": "markdown",
      "source": [
        "Составим рекомендацию из 30 фильмов для просмотра данному пользователю, которые алгоритм предсказал как те, в которых пользователь поставит более высокую оценку:"
      ],
      "metadata": {
        "id": "reFQMBLIsNeS"
      }
    },
    {
      "cell_type": "code",
      "source": [
        "collab = Collaborative(df_5)"
      ],
      "metadata": {
        "id": "A-HsvMrN9IlG"
      },
      "execution_count": null,
      "outputs": []
    },
    {
      "cell_type": "code",
      "source": [
        "recommend = collab.recommendations(user)"
      ],
      "metadata": {
        "id": "QiWdsLLRfrYo"
      },
      "execution_count": null,
      "outputs": []
    },
    {
      "cell_type": "code",
      "source": [
        "top_30_df = pd.DataFrame(recommend).head(30)"
      ],
      "metadata": {
        "id": "Z_T7i3gefzzZ"
      },
      "execution_count": null,
      "outputs": []
    },
    {
      "cell_type": "code",
      "source": [
        "top_30_df"
      ],
      "metadata": {
        "colab": {
          "base_uri": "https://localhost:8080/",
          "height": 990
        },
        "id": "FedqPSu9vwNt",
        "outputId": "0f772a67-243a-4100-b7fd-82fa72303952"
      },
      "execution_count": null,
      "outputs": [
        {
          "output_type": "execute_result",
          "data": {
            "text/plain": [
              "    movieId    rating                              title\n",
              "0    170689  5.000000                             Möbius\n",
              "1    129360  5.000000             Usain Bolt, La Légende\n",
              "2    164278  5.000000                             Harvey\n",
              "3     74406  5.000000           Queen: Days of Our Lives\n",
              "4     74491  5.000000  Confessions of an Ugly Stepsister\n",
              "5    140465  5.000000                        Prohibition\n",
              "6    123109  5.000000                       No One Lives\n",
              "7     68590  5.000000                     Legacy of Rage\n",
              "8    168478  5.000000                            Mermaid\n",
              "9    132912  5.000000                   The Price of Sex\n",
              "10   131098  5.000000                          Pinocchio\n",
              "11    81633  4.500000                        Hospitalité\n",
              "12   122928  4.500000                         The Letter\n",
              "13   159069  4.500000                     Vaastu Shastra\n",
              "14    86077  4.500000                         4 Elements\n",
              "15    87061  4.500000           The Extraordinary Voyage\n",
              "16   104103  4.500000                  Portraits Chinois\n",
              "17   164013  4.500000               Dzhentlmeny, Udachi!\n",
              "18    46588  4.500000                  Zigzag of Success\n",
              "19   113843  4.500000                      Woman's World\n",
              "20   146414  4.500000  The Diaries of a School Principal\n",
              "21    27092  4.388149                        Burnt Money\n",
              "22    72913  4.234196                              Amigo\n",
              "23   128679  4.179795                   Begone Dull Care\n",
              "24    53187  4.178631              The Return of Dracula\n",
              "25    81867  4.153831                          Breakaway\n",
              "26   162864  4.115646                           The 3 Rs\n",
              "27    27074  4.106259                          Oklahoma!\n",
              "28    99345  4.082201                  The Gallant Hours\n",
              "29   132561  4.058612                        Mixed Kebab"
            ],
            "text/html": [
              "<div>\n",
              "<style scoped>\n",
              "    .dataframe tbody tr th:only-of-type {\n",
              "        vertical-align: middle;\n",
              "    }\n",
              "\n",
              "    .dataframe tbody tr th {\n",
              "        vertical-align: top;\n",
              "    }\n",
              "\n",
              "    .dataframe thead th {\n",
              "        text-align: right;\n",
              "    }\n",
              "</style>\n",
              "<table border=\"1\" class=\"dataframe\">\n",
              "  <thead>\n",
              "    <tr style=\"text-align: right;\">\n",
              "      <th></th>\n",
              "      <th>movieId</th>\n",
              "      <th>rating</th>\n",
              "      <th>title</th>\n",
              "    </tr>\n",
              "  </thead>\n",
              "  <tbody>\n",
              "    <tr>\n",
              "      <th>0</th>\n",
              "      <td>170689</td>\n",
              "      <td>5.000000</td>\n",
              "      <td>Möbius</td>\n",
              "    </tr>\n",
              "    <tr>\n",
              "      <th>1</th>\n",
              "      <td>129360</td>\n",
              "      <td>5.000000</td>\n",
              "      <td>Usain Bolt, La Légende</td>\n",
              "    </tr>\n",
              "    <tr>\n",
              "      <th>2</th>\n",
              "      <td>164278</td>\n",
              "      <td>5.000000</td>\n",
              "      <td>Harvey</td>\n",
              "    </tr>\n",
              "    <tr>\n",
              "      <th>3</th>\n",
              "      <td>74406</td>\n",
              "      <td>5.000000</td>\n",
              "      <td>Queen: Days of Our Lives</td>\n",
              "    </tr>\n",
              "    <tr>\n",
              "      <th>4</th>\n",
              "      <td>74491</td>\n",
              "      <td>5.000000</td>\n",
              "      <td>Confessions of an Ugly Stepsister</td>\n",
              "    </tr>\n",
              "    <tr>\n",
              "      <th>5</th>\n",
              "      <td>140465</td>\n",
              "      <td>5.000000</td>\n",
              "      <td>Prohibition</td>\n",
              "    </tr>\n",
              "    <tr>\n",
              "      <th>6</th>\n",
              "      <td>123109</td>\n",
              "      <td>5.000000</td>\n",
              "      <td>No One Lives</td>\n",
              "    </tr>\n",
              "    <tr>\n",
              "      <th>7</th>\n",
              "      <td>68590</td>\n",
              "      <td>5.000000</td>\n",
              "      <td>Legacy of Rage</td>\n",
              "    </tr>\n",
              "    <tr>\n",
              "      <th>8</th>\n",
              "      <td>168478</td>\n",
              "      <td>5.000000</td>\n",
              "      <td>Mermaid</td>\n",
              "    </tr>\n",
              "    <tr>\n",
              "      <th>9</th>\n",
              "      <td>132912</td>\n",
              "      <td>5.000000</td>\n",
              "      <td>The Price of Sex</td>\n",
              "    </tr>\n",
              "    <tr>\n",
              "      <th>10</th>\n",
              "      <td>131098</td>\n",
              "      <td>5.000000</td>\n",
              "      <td>Pinocchio</td>\n",
              "    </tr>\n",
              "    <tr>\n",
              "      <th>11</th>\n",
              "      <td>81633</td>\n",
              "      <td>4.500000</td>\n",
              "      <td>Hospitalité</td>\n",
              "    </tr>\n",
              "    <tr>\n",
              "      <th>12</th>\n",
              "      <td>122928</td>\n",
              "      <td>4.500000</td>\n",
              "      <td>The Letter</td>\n",
              "    </tr>\n",
              "    <tr>\n",
              "      <th>13</th>\n",
              "      <td>159069</td>\n",
              "      <td>4.500000</td>\n",
              "      <td>Vaastu Shastra</td>\n",
              "    </tr>\n",
              "    <tr>\n",
              "      <th>14</th>\n",
              "      <td>86077</td>\n",
              "      <td>4.500000</td>\n",
              "      <td>4 Elements</td>\n",
              "    </tr>\n",
              "    <tr>\n",
              "      <th>15</th>\n",
              "      <td>87061</td>\n",
              "      <td>4.500000</td>\n",
              "      <td>The Extraordinary Voyage</td>\n",
              "    </tr>\n",
              "    <tr>\n",
              "      <th>16</th>\n",
              "      <td>104103</td>\n",
              "      <td>4.500000</td>\n",
              "      <td>Portraits Chinois</td>\n",
              "    </tr>\n",
              "    <tr>\n",
              "      <th>17</th>\n",
              "      <td>164013</td>\n",
              "      <td>4.500000</td>\n",
              "      <td>Dzhentlmeny, Udachi!</td>\n",
              "    </tr>\n",
              "    <tr>\n",
              "      <th>18</th>\n",
              "      <td>46588</td>\n",
              "      <td>4.500000</td>\n",
              "      <td>Zigzag of Success</td>\n",
              "    </tr>\n",
              "    <tr>\n",
              "      <th>19</th>\n",
              "      <td>113843</td>\n",
              "      <td>4.500000</td>\n",
              "      <td>Woman's World</td>\n",
              "    </tr>\n",
              "    <tr>\n",
              "      <th>20</th>\n",
              "      <td>146414</td>\n",
              "      <td>4.500000</td>\n",
              "      <td>The Diaries of a School Principal</td>\n",
              "    </tr>\n",
              "    <tr>\n",
              "      <th>21</th>\n",
              "      <td>27092</td>\n",
              "      <td>4.388149</td>\n",
              "      <td>Burnt Money</td>\n",
              "    </tr>\n",
              "    <tr>\n",
              "      <th>22</th>\n",
              "      <td>72913</td>\n",
              "      <td>4.234196</td>\n",
              "      <td>Amigo</td>\n",
              "    </tr>\n",
              "    <tr>\n",
              "      <th>23</th>\n",
              "      <td>128679</td>\n",
              "      <td>4.179795</td>\n",
              "      <td>Begone Dull Care</td>\n",
              "    </tr>\n",
              "    <tr>\n",
              "      <th>24</th>\n",
              "      <td>53187</td>\n",
              "      <td>4.178631</td>\n",
              "      <td>The Return of Dracula</td>\n",
              "    </tr>\n",
              "    <tr>\n",
              "      <th>25</th>\n",
              "      <td>81867</td>\n",
              "      <td>4.153831</td>\n",
              "      <td>Breakaway</td>\n",
              "    </tr>\n",
              "    <tr>\n",
              "      <th>26</th>\n",
              "      <td>162864</td>\n",
              "      <td>4.115646</td>\n",
              "      <td>The 3 Rs</td>\n",
              "    </tr>\n",
              "    <tr>\n",
              "      <th>27</th>\n",
              "      <td>27074</td>\n",
              "      <td>4.106259</td>\n",
              "      <td>Oklahoma!</td>\n",
              "    </tr>\n",
              "    <tr>\n",
              "      <th>28</th>\n",
              "      <td>99345</td>\n",
              "      <td>4.082201</td>\n",
              "      <td>The Gallant Hours</td>\n",
              "    </tr>\n",
              "    <tr>\n",
              "      <th>29</th>\n",
              "      <td>132561</td>\n",
              "      <td>4.058612</td>\n",
              "      <td>Mixed Kebab</td>\n",
              "    </tr>\n",
              "  </tbody>\n",
              "</table>\n",
              "</div>"
            ]
          },
          "metadata": {},
          "execution_count": 28
        }
      ]
    },
    {
      "cell_type": "code",
      "source": [
        "from sklearn.model_selection import KFold\n",
        "from sklearn.metrics import mean_squared_error, mean_absolute_error"
      ],
      "metadata": {
        "id": "f5-fGKGf2LRa"
      },
      "execution_count": null,
      "outputs": []
    },
    {
      "cell_type": "code",
      "source": [
        "class Quality:\n",
        "\n",
        "  def __init__(self, df):\n",
        "    self.col_filt = Collaborative(df)\n",
        "    self.df = df\n",
        "\n",
        "  def evaluate(self, userId, cv, functions: list):\n",
        "    user_df = self.df.query(f'userId == {userId}')\n",
        "    metrics = {}\n",
        "    for function in functions:\n",
        "      metrics.setdefault(function.__name__, [])\n",
        "    for train_index, test_index in cv.split(user_df):\n",
        "        df_test = user_df.iloc[test_index]\n",
        "        df_train = self.df[~((self.df['userId'].isin(df_test['userId'])) & (self.df['movieId'].isin(df_test['movieId'])))]\n",
        "        recommendations_df = self.pred_recommendations(user, df_train, df_test)\n",
        "        for function in functions:\n",
        "          metric = function(recommendations_df['rating'], recommendations_df['pred'])\n",
        "          metrics[function.__name__].append(metric)\n",
        "    return metrics\n",
        "\n",
        "  def pred_recommendations(self, user, df_train, df_test):\n",
        "    user_df = self.df.query(f'userId == {user}')\n",
        "    col_filt = Collaborative(df_train)\n",
        "    recommendations = col_filt.recommendations(user)\n",
        "    return pd.merge(\n",
        "        user_df,\n",
        "        pd.DataFrame(recommendations)[['movieId', 'rating']].rename(columns={\"rating\": \"pred\"}),\n",
        "        on='movieId'\n",
        "    )"
      ],
      "metadata": {
        "id": "r_7dTnag2U0L"
      },
      "execution_count": null,
      "outputs": []
    },
    {
      "cell_type": "markdown",
      "source": [
        "Оценим качество этой рекомендации для всех фильмов для данного пользователя. Сделаем это с помощью кросс-валидации по 5 фолдам, где в каждом наборе обучающих фолдов будут исключены фильмы, находящиеся в тестовой выборке. В качестве метрики измерения качества рекомендаций возьмем MSE, RMSE, MAE и NDCG@k."
      ],
      "metadata": {
        "id": "lJjIPiKvsoiI"
      }
    },
    {
      "cell_type": "code",
      "source": [
        "def ndcg(rel_true, rel_pred, p=5):\n",
        "    rel_true = np.sort(rel_true)[::-1]\n",
        "    p = min(len(rel_true), min(len(rel_pred), p))\n",
        "    discount = 1 / (np.log2(np.arange(p) + 2))\n",
        "    idcg = np.sum(rel_true[:p] * discount)\n",
        "    dcg = np.sum(rel_pred[:p] * discount)\n",
        "    return dcg / idcg"
      ],
      "metadata": {
        "id": "_c4V28zy2I5t"
      },
      "execution_count": null,
      "outputs": []
    },
    {
      "cell_type": "code",
      "source": [
        "quality = Quality(df_5)\n",
        "k = 5\n",
        "functions_list = [mean_squared_error, mean_absolute_error, ndcg]\n",
        "metrics = quality.evaluate(user, cv=KFold(n_splits=k), functions=functions_list)"
      ],
      "metadata": {
        "id": "2bkEbnr14k0I"
      },
      "execution_count": null,
      "outputs": []
    },
    {
      "cell_type": "code",
      "source": [
        "print(f\"MSE (Mean Squared Error): {np.mean(metrics['mean_squared_error'])} \\n (усредненное значение на {k} фолдах, чем ниже, тем лучше) \\n\")\n",
        "print(f\"RMSE (Root Mean Squared Error): {np.mean(np.sqrt(metrics['mean_squared_error']))} \\n (усредненное значение на {k} фолдах, чем ниже, тем лучше)\\n\")\n",
        "print(f\"MAE (Mean Absolute Error): {np.mean(metrics['mean_absolute_error'])} \\n (усредненное значение на {k} фолдах, чем ниже, тем лучше)\\n\")\n",
        "print(f\"NDCG@k (Normalized Discounted Cumulative Gain at k): {np.mean(metrics['ndcg'])} \\n (усредненное значение на {k} фолдах, все релевантные значения находятся в топе списка, т.е. чем ближе к 1, тем лучше)\")"
      ],
      "metadata": {
        "colab": {
          "base_uri": "https://localhost:8080/"
        },
        "id": "snZyktvy8VvC",
        "outputId": "3dbdb45b-ba02-4edb-f32a-e80065d092af"
      },
      "execution_count": null,
      "outputs": [
        {
          "output_type": "stream",
          "name": "stdout",
          "text": [
            "MSE (Mean Squared Error): 0.5691686613119182 \n",
            " (усредненное значение на 5 фолдах, чем ниже, тем лучше) \n",
            "\n",
            "RMSE (Root Mean Squared Error): 0.7520554331569256 \n",
            " (усредненное значение на 5 фолдах, чем ниже, тем лучше)\n",
            "\n",
            "MAE (Mean Absolute Error): 0.5408191075062373 \n",
            " (усредненное значение на 5 фолдах, чем ниже, тем лучше)\n",
            "\n",
            "NDCG@k (Normalized Discounted Cumulative Gain at k): 0.6551721519330461 \n",
            " (усредненное значение на 5 фолдах, все релевантные значения находятся в топе списка, т.е. чем ближе к 1, тем лучше)\n"
          ]
        }
      ]
    },
    {
      "cell_type": "markdown",
      "source": [
        "Проведем оценку на большем числе пользователей. Возьмем 50 пользователей с наибольшим количеством оценок"
      ],
      "metadata": {
        "id": "BB8AFycOs-st"
      }
    },
    {
      "cell_type": "code",
      "source": [
        "import sys\n",
        "top_n = 50\n",
        "top_50_users_with_most_ratings = df_5['userId'].value_counts().head(top_n).index.values\n",
        "top_50_users_with_most_ratings"
      ],
      "metadata": {
        "colab": {
          "base_uri": "https://localhost:8080/"
        },
        "id": "Gd0CCNVGFooG",
        "outputId": "e3daa4bf-0c60-41a3-adc9-ef6e329a9ff7"
      },
      "execution_count": null,
      "outputs": [
        {
          "output_type": "execute_result",
          "data": {
            "text/plain": [
              "array([ 45811,   8659, 179792, 107720, 270123, 229879, 243443, 228291,\n",
              "       172224,  70648,  98415, 245739, 194690,  98787, 165352,  59554,\n",
              "        59449, 186059, 243331,  74275, 230417,  41190, 166928,  89258,\n",
              "        65469, 141589,  89020,  24025, 176920, 255933,  46156, 101276,\n",
              "        97293, 267772,  40207, 196541,  32984, 251794, 118673,  33940,\n",
              "       210792, 172359, 258253, 177150, 180711, 164792,  42957, 174414,\n",
              "       121083, 225396])"
            ]
          },
          "metadata": {},
          "execution_count": 19
        }
      ]
    },
    {
      "cell_type": "markdown",
      "source": [
        "И для каждого из них будем считать среднее значение метрик, а затем усредним каждую из них и получим общую среднюю оценку"
      ],
      "metadata": {
        "id": "GH2oW1YXtBak"
      }
    },
    {
      "cell_type": "code",
      "source": [
        "mse_values = []\n",
        "rmse_values = []\n",
        "mae_values = []\n",
        "ndcg_values = []\n",
        "counter = 1\n",
        "k = 5\n",
        "functions_list = [mean_squared_error, mean_absolute_error, ndcg]\n",
        "for user in top_50_users_with_most_ratings:\n",
        "  print(f\"\\rProgress {round((counter/top_n)*100)} %\",end=\"\")\n",
        "  sys.stdout.flush()\n",
        "  metrics = quality.evaluate(user, cv=KFold(n_splits=k), functions=functions_list)\n",
        "  mse_values.append(np.mean(metrics['mean_squared_error']))\n",
        "  rmse_values.append(np.mean(np.sqrt(metrics['mean_squared_error'])))\n",
        "  mae_values.append(np.mean(metrics['mean_absolute_error']))\n",
        "  ndcg_values.append(np.mean(metrics['ndcg']))\n",
        "  counter += 1\n",
        "print(f\"\\rСреднее значение усредненного на {k} фолдах MSE (Mean Squared Error) для {top_n} пользователей: {np.mean(mse_values)} \\n (чем ниже, тем лучше) \\n\")\n",
        "print(f\"Среднее значение усредненного на {k} фолдах RMSE (Root Mean Squared Error) для {top_n} пользователей: {np.mean(rmse_values)} \\n (чем ниже, тем лучше)\\n\")\n",
        "print(f\"Среднее значение усредненного на {k} фолдах MAE (Mean Absolute Error): {np.mean(mae_values)} \\n (чем ниже, тем лучше)\\n\")\n",
        "print(f\"Среднее значение усредненного на {k} фолдах NDCG@k (Normalized Discounted Cumulative Gain at k): {np.mean(ndcg_values)} \\n (все релевантные значения находятся в топе списка, т.е. чем ближе к 1, тем лучше)\")"
      ],
      "metadata": {
        "colab": {
          "base_uri": "https://localhost:8080/"
        },
        "id": "taZl1JClrsOr",
        "outputId": "1661a32b-51a8-4644-ba15-8724faf9d7b3"
      },
      "execution_count": null,
      "outputs": [
        {
          "output_type": "stream",
          "name": "stdout",
          "text": [
            "Среднее значение усредненного на 5 фолдах MSE (Mean Squared Error) для 50 пользователей: 0.9367329180696552 \n",
            " (чем ниже, тем лучше) \n",
            "\n",
            "Среднее значение усредненного на 5 фолдах RMSE (Root Mean Squared Error) для 50 пользователей: 0.8957500691029537 \n",
            " (чем ниже, тем лучше)\n",
            "\n",
            "Среднее значение усредненного на 5 фолдах MAE (Mean Absolute Error): 0.735159962987331 \n",
            " (чем ниже, тем лучше)\n",
            "\n",
            "Среднее значение усредненного на 5 фолдах NDCG@k (Normalized Discounted Cumulative Gain at k): 0.6541768998865612 \n",
            " (все релевантные значения находятся в топе списка, т.е. чем ближе к 1, тем лучше)\n"
          ]
        }
      ]
    },
    {
      "cell_type": "markdown",
      "source": [
        "Как видим из результатов - все не так плохо. В процентном соотношении доля ошибки занимает в среднем от 14 до 20%."
      ],
      "metadata": {
        "id": "pjWci--ptStM"
      }
    },
    {
      "cell_type": "markdown",
      "source": [
        "## Задание 6"
      ],
      "metadata": {
        "id": "SnJ-QpZlUB68"
      }
    },
    {
      "cell_type": "markdown",
      "source": [
        "Используйте метод Term Frequency Inverse Document Frequency (TF-IDF), чтобы отфильтровать фильмы, похожие (используйте для этого косинусное расстояние) на те, которые пользователь высоко оценил.\n",
        "\n",
        "Оцените качество такой рекомендации."
      ],
      "metadata": {
        "id": "tQDKWRhDUbIr"
      }
    },
    {
      "cell_type": "markdown",
      "source": [
        "Возьмем случайного пользователя с id 30159 (он имеет не так много оценок, так что как раз подходит)"
      ],
      "metadata": {
        "id": "Ibf2hWUttphc"
      }
    },
    {
      "cell_type": "code",
      "source": [
        "userId = 30159\n",
        "ratings_count = len(data_df.query(f'userId == {userId}'))\n",
        "print(f'Количество оценок пользователя {userId}: {ratings_count}')"
      ],
      "metadata": {
        "colab": {
          "base_uri": "https://localhost:8080/"
        },
        "id": "qnGcR-C9A1RR",
        "outputId": "fef035d1-2083-45be-8097-de9eb208e074"
      },
      "execution_count": null,
      "outputs": [
        {
          "output_type": "stream",
          "name": "stdout",
          "text": [
            "Количество оценок пользователя 30159: 174\n"
          ]
        }
      ]
    },
    {
      "cell_type": "markdown",
      "source": [
        "Обработаем данные и соберем для пользователя"
      ],
      "metadata": {
        "id": "INMItlcQt-Sb"
      }
    },
    {
      "cell_type": "code",
      "source": [
        "movies_df = metadata[['id', 'overview', 'title']].rename(columns={'id': 'movieId'})\n",
        "user_movies = data_df.query(f'userId == {userId}')\n",
        "user_movies_ids = user_movies['movieId']"
      ],
      "metadata": {
        "id": "ODnwFYfLBTq4"
      },
      "execution_count": null,
      "outputs": []
    },
    {
      "cell_type": "markdown",
      "source": [
        "Создадим функцию для посчета косинусного расстояния и для первой части задания - рассчет k наиболее похожих фильмов"
      ],
      "metadata": {
        "id": "xkV1fvJhuGB0"
      }
    },
    {
      "cell_type": "code",
      "source": [
        "from sklearn.metrics.pairwise import linear_kernel\n",
        "from sklearn.feature_extraction.text import TfidfVectorizer\n",
        "\n",
        "def tf_idf_sim(train, test, k, mode='compare'):\n",
        "    Tfidf_Vectorizer = TfidfVectorizer(min_df=0)\n",
        "    vectorized = Tfidf_Vectorizer.fit_transform(train)\n",
        "    new_entry = Tfidf_Vectorizer.transform(test)\n",
        "\n",
        "    cosine_similarities = linear_kernel(new_entry, vectorized).flatten()\n",
        "    if (mode == 'compare'):\n",
        "      recc_indices = np.argsort(cosine_similarities)[0:k]\n",
        "      indexes = list(train.index[recc_indices])\n",
        "      return indexes\n",
        "    else:\n",
        "      return cosine_similarities"
      ],
      "metadata": {
        "id": "HB6xkMaTcnry"
      },
      "execution_count": null,
      "outputs": []
    },
    {
      "cell_type": "markdown",
      "source": [
        "Для оценки качества фильтрации фильмов будем использовать leave-one-out кросс-валидацию - будем обучать алгоритм TF-IDF на всех фильмах в датасете, кроме одного тестового. На одном таком фильме будем проверять качество рекомендации, находя наиболее похожие фильмы по косинусному расстоянию."
      ],
      "metadata": {
        "id": "T9zKYdBvuikU"
      }
    },
    {
      "cell_type": "code",
      "source": [
        "from sklearn.model_selection import LeaveOneOut\n",
        "def run_compare(movies_ids):\n",
        "  movies_cv_results = {}\n",
        "  cnt = 0\n",
        "  top_k = 15\n",
        "  for train_index, test_index in LeaveOneOut().split(movies_ids):\n",
        "      cnt += 1\n",
        "      print(f\"\\rProgress {(cnt/len(movies_ids))*100} %\",end=\"\")\n",
        "      sys.stdout.flush()\n",
        "      movie_test = int(movies_ids.iloc[list(test_index)[0]])\n",
        "      movies_df_train = movies_df[~movies_df['movieId'] != movie_test]\n",
        "      movie_df_test = movies_df[movies_df['movieId'] == movie_test]\n",
        "      movies_cv_results[movie_test] = tf_idf_sim(movies_df_train['overview'], movie_df_test['overview'], top_k)\n",
        "  return movies_cv_results"
      ],
      "metadata": {
        "colab": {
          "base_uri": "https://localhost:8080/"
        },
        "id": "lVmVtCgC6qfC",
        "outputId": "7e55389d-3a16-466e-a62e-8663519200bf"
      },
      "execution_count": null,
      "outputs": [
        {
          "output_type": "stream",
          "name": "stdout",
          "text": [
            "Progress 100.0 %"
          ]
        }
      ]
    },
    {
      "cell_type": "code",
      "source": [
        "results = run_compare(user_movies_ids)"
      ],
      "metadata": {
        "id": "YRxqgmb8jhFY"
      },
      "execution_count": null,
      "outputs": []
    },
    {
      "cell_type": "markdown",
      "source": [
        "Мы получили id наиболее похожих фильмов для каждого из фильмов пользователя. Выведем фильмы, похожие на фильм с id 527"
      ],
      "metadata": {
        "id": "SI47_LGau65y"
      }
    },
    {
      "cell_type": "code",
      "source": [
        "movie = 527\n",
        "recommendations = list(results[movie])\n",
        "print(f'Наиболее похожие фильмы (топ {top_k}) на фильм с id равным {movie}:\\n')\n",
        "movies_df.loc[recommendations]"
      ],
      "metadata": {
        "colab": {
          "base_uri": "https://localhost:8080/",
          "height": 554
        },
        "id": "XdUjj77bCoYE",
        "outputId": "6e8fd245-06c3-4ed3-c649-b80119c440ce"
      },
      "execution_count": null,
      "outputs": [
        {
          "output_type": "stream",
          "name": "stdout",
          "text": [
            "Наиболее похожие фильмы (топ 15) на фильм с id равным 527:\n",
            "\n"
          ]
        },
        {
          "output_type": "execute_result",
          "data": {
            "text/plain": [
              "       movieId                                           overview  \\\n",
              "17095    38944  Mitä tapahtuu, kun yhdessä miehessä asuu kaksi...   \n",
              "29138    82401  A teen is visited by aliens after he broadcast...   \n",
              "33228   277967  A thriller crime comedy directed by Wolfgang M...   \n",
              "43663   322148                       Directed by Slavko Spionjak.   \n",
              "33218   354667             A 2015 Kannada mystery-thriller movie.   \n",
              "21107   160085  An employee at a professional separation agenc...   \n",
              "21172   128276      A PC becomes a vigilante after a head trauma.   \n",
              "10956     1416  An overzealous soldier mentally deteriorates a...   \n",
              "40518   284564                ROB ZOMBIE'S  S P O O K  H A U S 31   \n",
              "33049   245698  American chess champion Bobby Fischer prepares...   \n",
              "24707   183662  A secret admirer's crush on a high school athl...   \n",
              "33044   270081                         A young woman's bleak life   \n",
              "21261    30183  Hiring real zombies for a broadway show proves...   \n",
              "43608    45041  Stand-Up comedian Dana Gould performs his one-...   \n",
              "1137     26561  Based on Elizabeth Von Arnim's novel, four Eng...   \n",
              "\n",
              "                                           title  \n",
              "17095                          The Leaning Tower  \n",
              "29138                               Can of Worms  \n",
              "33228                               Life Eternal  \n",
              "43663                                     Caedes  \n",
              "33218                               RangiTaranga  \n",
              "21107                              Schlussmacher  \n",
              "21172                              May I Kill U?  \n",
              "10956                            The Coast Guard  \n",
              "40518                                         31  \n",
              "33049                             Pawn Sacrifice  \n",
              "24707                                      Crush  \n",
              "33044                                      Diane  \n",
              "21261                        Zombies on Broadway  \n",
              "43608  Dana Gould: Let Me Put My Thoughts in You  \n",
              "1137                             Enchanted April  "
            ],
            "text/html": [
              "\n",
              "  <div id=\"df-755c05c4-6adc-43f8-8e12-9ce90d19b3df\">\n",
              "    <div class=\"colab-df-container\">\n",
              "      <div>\n",
              "<style scoped>\n",
              "    .dataframe tbody tr th:only-of-type {\n",
              "        vertical-align: middle;\n",
              "    }\n",
              "\n",
              "    .dataframe tbody tr th {\n",
              "        vertical-align: top;\n",
              "    }\n",
              "\n",
              "    .dataframe thead th {\n",
              "        text-align: right;\n",
              "    }\n",
              "</style>\n",
              "<table border=\"1\" class=\"dataframe\">\n",
              "  <thead>\n",
              "    <tr style=\"text-align: right;\">\n",
              "      <th></th>\n",
              "      <th>movieId</th>\n",
              "      <th>overview</th>\n",
              "      <th>title</th>\n",
              "    </tr>\n",
              "  </thead>\n",
              "  <tbody>\n",
              "    <tr>\n",
              "      <th>17095</th>\n",
              "      <td>38944</td>\n",
              "      <td>Mitä tapahtuu, kun yhdessä miehessä asuu kaksi...</td>\n",
              "      <td>The Leaning Tower</td>\n",
              "    </tr>\n",
              "    <tr>\n",
              "      <th>29138</th>\n",
              "      <td>82401</td>\n",
              "      <td>A teen is visited by aliens after he broadcast...</td>\n",
              "      <td>Can of Worms</td>\n",
              "    </tr>\n",
              "    <tr>\n",
              "      <th>33228</th>\n",
              "      <td>277967</td>\n",
              "      <td>A thriller crime comedy directed by Wolfgang M...</td>\n",
              "      <td>Life Eternal</td>\n",
              "    </tr>\n",
              "    <tr>\n",
              "      <th>43663</th>\n",
              "      <td>322148</td>\n",
              "      <td>Directed by Slavko Spionjak.</td>\n",
              "      <td>Caedes</td>\n",
              "    </tr>\n",
              "    <tr>\n",
              "      <th>33218</th>\n",
              "      <td>354667</td>\n",
              "      <td>A 2015 Kannada mystery-thriller movie.</td>\n",
              "      <td>RangiTaranga</td>\n",
              "    </tr>\n",
              "    <tr>\n",
              "      <th>21107</th>\n",
              "      <td>160085</td>\n",
              "      <td>An employee at a professional separation agenc...</td>\n",
              "      <td>Schlussmacher</td>\n",
              "    </tr>\n",
              "    <tr>\n",
              "      <th>21172</th>\n",
              "      <td>128276</td>\n",
              "      <td>A PC becomes a vigilante after a head trauma.</td>\n",
              "      <td>May I Kill U?</td>\n",
              "    </tr>\n",
              "    <tr>\n",
              "      <th>10956</th>\n",
              "      <td>1416</td>\n",
              "      <td>An overzealous soldier mentally deteriorates a...</td>\n",
              "      <td>The Coast Guard</td>\n",
              "    </tr>\n",
              "    <tr>\n",
              "      <th>40518</th>\n",
              "      <td>284564</td>\n",
              "      <td>ROB ZOMBIE'S  S P O O K  H A U S 31</td>\n",
              "      <td>31</td>\n",
              "    </tr>\n",
              "    <tr>\n",
              "      <th>33049</th>\n",
              "      <td>245698</td>\n",
              "      <td>American chess champion Bobby Fischer prepares...</td>\n",
              "      <td>Pawn Sacrifice</td>\n",
              "    </tr>\n",
              "    <tr>\n",
              "      <th>24707</th>\n",
              "      <td>183662</td>\n",
              "      <td>A secret admirer's crush on a high school athl...</td>\n",
              "      <td>Crush</td>\n",
              "    </tr>\n",
              "    <tr>\n",
              "      <th>33044</th>\n",
              "      <td>270081</td>\n",
              "      <td>A young woman's bleak life</td>\n",
              "      <td>Diane</td>\n",
              "    </tr>\n",
              "    <tr>\n",
              "      <th>21261</th>\n",
              "      <td>30183</td>\n",
              "      <td>Hiring real zombies for a broadway show proves...</td>\n",
              "      <td>Zombies on Broadway</td>\n",
              "    </tr>\n",
              "    <tr>\n",
              "      <th>43608</th>\n",
              "      <td>45041</td>\n",
              "      <td>Stand-Up comedian Dana Gould performs his one-...</td>\n",
              "      <td>Dana Gould: Let Me Put My Thoughts in You</td>\n",
              "    </tr>\n",
              "    <tr>\n",
              "      <th>1137</th>\n",
              "      <td>26561</td>\n",
              "      <td>Based on Elizabeth Von Arnim's novel, four Eng...</td>\n",
              "      <td>Enchanted April</td>\n",
              "    </tr>\n",
              "  </tbody>\n",
              "</table>\n",
              "</div>\n",
              "      <button class=\"colab-df-convert\" onclick=\"convertToInteractive('df-755c05c4-6adc-43f8-8e12-9ce90d19b3df')\"\n",
              "              title=\"Convert this dataframe to an interactive table.\"\n",
              "              style=\"display:none;\">\n",
              "        \n",
              "  <svg xmlns=\"http://www.w3.org/2000/svg\" height=\"24px\"viewBox=\"0 0 24 24\"\n",
              "       width=\"24px\">\n",
              "    <path d=\"M0 0h24v24H0V0z\" fill=\"none\"/>\n",
              "    <path d=\"M18.56 5.44l.94 2.06.94-2.06 2.06-.94-2.06-.94-.94-2.06-.94 2.06-2.06.94zm-11 1L8.5 8.5l.94-2.06 2.06-.94-2.06-.94L8.5 2.5l-.94 2.06-2.06.94zm10 10l.94 2.06.94-2.06 2.06-.94-2.06-.94-.94-2.06-.94 2.06-2.06.94z\"/><path d=\"M17.41 7.96l-1.37-1.37c-.4-.4-.92-.59-1.43-.59-.52 0-1.04.2-1.43.59L10.3 9.45l-7.72 7.72c-.78.78-.78 2.05 0 2.83L4 21.41c.39.39.9.59 1.41.59.51 0 1.02-.2 1.41-.59l7.78-7.78 2.81-2.81c.8-.78.8-2.07 0-2.86zM5.41 20L4 18.59l7.72-7.72 1.47 1.35L5.41 20z\"/>\n",
              "  </svg>\n",
              "      </button>\n",
              "      \n",
              "  <style>\n",
              "    .colab-df-container {\n",
              "      display:flex;\n",
              "      flex-wrap:wrap;\n",
              "      gap: 12px;\n",
              "    }\n",
              "\n",
              "    .colab-df-convert {\n",
              "      background-color: #E8F0FE;\n",
              "      border: none;\n",
              "      border-radius: 50%;\n",
              "      cursor: pointer;\n",
              "      display: none;\n",
              "      fill: #1967D2;\n",
              "      height: 32px;\n",
              "      padding: 0 0 0 0;\n",
              "      width: 32px;\n",
              "    }\n",
              "\n",
              "    .colab-df-convert:hover {\n",
              "      background-color: #E2EBFA;\n",
              "      box-shadow: 0px 1px 2px rgba(60, 64, 67, 0.3), 0px 1px 3px 1px rgba(60, 64, 67, 0.15);\n",
              "      fill: #174EA6;\n",
              "    }\n",
              "\n",
              "    [theme=dark] .colab-df-convert {\n",
              "      background-color: #3B4455;\n",
              "      fill: #D2E3FC;\n",
              "    }\n",
              "\n",
              "    [theme=dark] .colab-df-convert:hover {\n",
              "      background-color: #434B5C;\n",
              "      box-shadow: 0px 1px 3px 1px rgba(0, 0, 0, 0.15);\n",
              "      filter: drop-shadow(0px 1px 2px rgba(0, 0, 0, 0.3));\n",
              "      fill: #FFFFFF;\n",
              "    }\n",
              "  </style>\n",
              "\n",
              "      <script>\n",
              "        const buttonEl =\n",
              "          document.querySelector('#df-755c05c4-6adc-43f8-8e12-9ce90d19b3df button.colab-df-convert');\n",
              "        buttonEl.style.display =\n",
              "          google.colab.kernel.accessAllowed ? 'block' : 'none';\n",
              "\n",
              "        async function convertToInteractive(key) {\n",
              "          const element = document.querySelector('#df-755c05c4-6adc-43f8-8e12-9ce90d19b3df');\n",
              "          const dataTable =\n",
              "            await google.colab.kernel.invokeFunction('convertToInteractive',\n",
              "                                                     [key], {});\n",
              "          if (!dataTable) return;\n",
              "\n",
              "          const docLinkHtml = 'Like what you see? Visit the ' +\n",
              "            '<a target=\"_blank\" href=https://colab.research.google.com/notebooks/data_table.ipynb>data table notebook</a>'\n",
              "            + ' to learn more about interactive tables.';\n",
              "          element.innerHTML = '';\n",
              "          dataTable['output_type'] = 'display_data';\n",
              "          await google.colab.output.renderOutput(dataTable, element);\n",
              "          const docLink = document.createElement('div');\n",
              "          docLink.innerHTML = docLinkHtml;\n",
              "          element.appendChild(docLink);\n",
              "        }\n",
              "      </script>\n",
              "    </div>\n",
              "  </div>\n",
              "  "
            ]
          },
          "metadata": {},
          "execution_count": 137
        }
      ]
    },
    {
      "cell_type": "markdown",
      "source": [
        "Однако следуя заданию нам нужны только наиболее оценненые пользователем фильмы. Выберем те фильмы пользователя, где он поставил оценку 5"
      ],
      "metadata": {
        "id": "_b0CgQP4vO1l"
      }
    },
    {
      "cell_type": "code",
      "source": [
        "user_top_movies = user_movies.sort_values(by='rating', ascending=False).loc[user_movies['rating'] == 5.0]['movieId'].values.tolist()"
      ],
      "metadata": {
        "id": "Ukfp2CvpTlhC"
      },
      "execution_count": null,
      "outputs": []
    },
    {
      "cell_type": "markdown",
      "source": [
        "Составим датасет похожести для полученных результатов"
      ],
      "metadata": {
        "id": "MRLFD_0evk_0"
      }
    },
    {
      "cell_type": "code",
      "source": [
        "lstu = []\n",
        "for item in user_top_movies:\n",
        "  lstu.append([item, movies_cv_results[item]])\n",
        "pd.DataFrame(lstu, columns=['movie', 'similar'])"
      ],
      "metadata": {
        "colab": {
          "base_uri": "https://localhost:8080/",
          "height": 426
        },
        "id": "XiGjIATyUvJM",
        "outputId": "95963d71-7399-49e7-8473-6fe9f12861ab"
      },
      "execution_count": null,
      "outputs": [
        {
          "output_type": "execute_result",
          "data": {
            "text/plain": [
              "    movie                                            similar\n",
              "0   68954  [22392, 21074, 21067, 2484, 21039, 21017, 2100...\n",
              "1    1921  [17978, 32513, 27361, 10212, 43533, 40516, 187...\n",
              "2     541  [29298, 15448, 33016, 15432, 22745, 22749, 227...\n",
              "3    1282  [34515, 30129, 24131, 24133, 7215, 1232, 14108...\n",
              "4    1682  [16490, 42563, 13771, 24469, 24507, 33738, 425...\n",
              "5    2291  [11580, 24653, 1489, 24507, 7111, 24469, 1476,...\n",
              "6     527  [17095, 29138, 33228, 43663, 33218, 21107, 211...\n",
              "7     899  [8058, 23886, 12375, 19065, 29272, 23917, 4456...\n",
              "8    6970  [37426, 34629, 31855, 11833, 43752, 38775, 235...\n",
              "9     318  [27361, 14266, 908, 6414, 42515, 34763, 3007, ...\n",
              "10   1394  [32317, 34069, 34244, 25582, 34256, 34285, 342...\n",
              "11    293  [3033, 9467, 38194, 44763, 4856, 18345, 38805,...\n",
              "12   1732  [14357, 30146, 12375, 41766, 8284, 36342, 2622...\n",
              "13   2761  [43844, 33117, 33113, 17760, 39399, 17786, 177...\n",
              "14    745  [25891, 16497, 16473, 36245, 36289, 16341, 163..."
            ],
            "text/html": [
              "\n",
              "  <div id=\"df-dddc50da-98b4-4d64-b277-7aac04daa755\">\n",
              "    <div class=\"colab-df-container\">\n",
              "      <div>\n",
              "<style scoped>\n",
              "    .dataframe tbody tr th:only-of-type {\n",
              "        vertical-align: middle;\n",
              "    }\n",
              "\n",
              "    .dataframe tbody tr th {\n",
              "        vertical-align: top;\n",
              "    }\n",
              "\n",
              "    .dataframe thead th {\n",
              "        text-align: right;\n",
              "    }\n",
              "</style>\n",
              "<table border=\"1\" class=\"dataframe\">\n",
              "  <thead>\n",
              "    <tr style=\"text-align: right;\">\n",
              "      <th></th>\n",
              "      <th>movie</th>\n",
              "      <th>similar</th>\n",
              "    </tr>\n",
              "  </thead>\n",
              "  <tbody>\n",
              "    <tr>\n",
              "      <th>0</th>\n",
              "      <td>68954</td>\n",
              "      <td>[22392, 21074, 21067, 2484, 21039, 21017, 2100...</td>\n",
              "    </tr>\n",
              "    <tr>\n",
              "      <th>1</th>\n",
              "      <td>1921</td>\n",
              "      <td>[17978, 32513, 27361, 10212, 43533, 40516, 187...</td>\n",
              "    </tr>\n",
              "    <tr>\n",
              "      <th>2</th>\n",
              "      <td>541</td>\n",
              "      <td>[29298, 15448, 33016, 15432, 22745, 22749, 227...</td>\n",
              "    </tr>\n",
              "    <tr>\n",
              "      <th>3</th>\n",
              "      <td>1282</td>\n",
              "      <td>[34515, 30129, 24131, 24133, 7215, 1232, 14108...</td>\n",
              "    </tr>\n",
              "    <tr>\n",
              "      <th>4</th>\n",
              "      <td>1682</td>\n",
              "      <td>[16490, 42563, 13771, 24469, 24507, 33738, 425...</td>\n",
              "    </tr>\n",
              "    <tr>\n",
              "      <th>5</th>\n",
              "      <td>2291</td>\n",
              "      <td>[11580, 24653, 1489, 24507, 7111, 24469, 1476,...</td>\n",
              "    </tr>\n",
              "    <tr>\n",
              "      <th>6</th>\n",
              "      <td>527</td>\n",
              "      <td>[17095, 29138, 33228, 43663, 33218, 21107, 211...</td>\n",
              "    </tr>\n",
              "    <tr>\n",
              "      <th>7</th>\n",
              "      <td>899</td>\n",
              "      <td>[8058, 23886, 12375, 19065, 29272, 23917, 4456...</td>\n",
              "    </tr>\n",
              "    <tr>\n",
              "      <th>8</th>\n",
              "      <td>6970</td>\n",
              "      <td>[37426, 34629, 31855, 11833, 43752, 38775, 235...</td>\n",
              "    </tr>\n",
              "    <tr>\n",
              "      <th>9</th>\n",
              "      <td>318</td>\n",
              "      <td>[27361, 14266, 908, 6414, 42515, 34763, 3007, ...</td>\n",
              "    </tr>\n",
              "    <tr>\n",
              "      <th>10</th>\n",
              "      <td>1394</td>\n",
              "      <td>[32317, 34069, 34244, 25582, 34256, 34285, 342...</td>\n",
              "    </tr>\n",
              "    <tr>\n",
              "      <th>11</th>\n",
              "      <td>293</td>\n",
              "      <td>[3033, 9467, 38194, 44763, 4856, 18345, 38805,...</td>\n",
              "    </tr>\n",
              "    <tr>\n",
              "      <th>12</th>\n",
              "      <td>1732</td>\n",
              "      <td>[14357, 30146, 12375, 41766, 8284, 36342, 2622...</td>\n",
              "    </tr>\n",
              "    <tr>\n",
              "      <th>13</th>\n",
              "      <td>2761</td>\n",
              "      <td>[43844, 33117, 33113, 17760, 39399, 17786, 177...</td>\n",
              "    </tr>\n",
              "    <tr>\n",
              "      <th>14</th>\n",
              "      <td>745</td>\n",
              "      <td>[25891, 16497, 16473, 36245, 36289, 16341, 163...</td>\n",
              "    </tr>\n",
              "  </tbody>\n",
              "</table>\n",
              "</div>\n",
              "      <button class=\"colab-df-convert\" onclick=\"convertToInteractive('df-dddc50da-98b4-4d64-b277-7aac04daa755')\"\n",
              "              title=\"Convert this dataframe to an interactive table.\"\n",
              "              style=\"display:none;\">\n",
              "        \n",
              "  <svg xmlns=\"http://www.w3.org/2000/svg\" height=\"24px\"viewBox=\"0 0 24 24\"\n",
              "       width=\"24px\">\n",
              "    <path d=\"M0 0h24v24H0V0z\" fill=\"none\"/>\n",
              "    <path d=\"M18.56 5.44l.94 2.06.94-2.06 2.06-.94-2.06-.94-.94-2.06-.94 2.06-2.06.94zm-11 1L8.5 8.5l.94-2.06 2.06-.94-2.06-.94L8.5 2.5l-.94 2.06-2.06.94zm10 10l.94 2.06.94-2.06 2.06-.94-2.06-.94-.94-2.06-.94 2.06-2.06.94z\"/><path d=\"M17.41 7.96l-1.37-1.37c-.4-.4-.92-.59-1.43-.59-.52 0-1.04.2-1.43.59L10.3 9.45l-7.72 7.72c-.78.78-.78 2.05 0 2.83L4 21.41c.39.39.9.59 1.41.59.51 0 1.02-.2 1.41-.59l7.78-7.78 2.81-2.81c.8-.78.8-2.07 0-2.86zM5.41 20L4 18.59l7.72-7.72 1.47 1.35L5.41 20z\"/>\n",
              "  </svg>\n",
              "      </button>\n",
              "      \n",
              "  <style>\n",
              "    .colab-df-container {\n",
              "      display:flex;\n",
              "      flex-wrap:wrap;\n",
              "      gap: 12px;\n",
              "    }\n",
              "\n",
              "    .colab-df-convert {\n",
              "      background-color: #E8F0FE;\n",
              "      border: none;\n",
              "      border-radius: 50%;\n",
              "      cursor: pointer;\n",
              "      display: none;\n",
              "      fill: #1967D2;\n",
              "      height: 32px;\n",
              "      padding: 0 0 0 0;\n",
              "      width: 32px;\n",
              "    }\n",
              "\n",
              "    .colab-df-convert:hover {\n",
              "      background-color: #E2EBFA;\n",
              "      box-shadow: 0px 1px 2px rgba(60, 64, 67, 0.3), 0px 1px 3px 1px rgba(60, 64, 67, 0.15);\n",
              "      fill: #174EA6;\n",
              "    }\n",
              "\n",
              "    [theme=dark] .colab-df-convert {\n",
              "      background-color: #3B4455;\n",
              "      fill: #D2E3FC;\n",
              "    }\n",
              "\n",
              "    [theme=dark] .colab-df-convert:hover {\n",
              "      background-color: #434B5C;\n",
              "      box-shadow: 0px 1px 3px 1px rgba(0, 0, 0, 0.15);\n",
              "      filter: drop-shadow(0px 1px 2px rgba(0, 0, 0, 0.3));\n",
              "      fill: #FFFFFF;\n",
              "    }\n",
              "  </style>\n",
              "\n",
              "      <script>\n",
              "        const buttonEl =\n",
              "          document.querySelector('#df-dddc50da-98b4-4d64-b277-7aac04daa755 button.colab-df-convert');\n",
              "        buttonEl.style.display =\n",
              "          google.colab.kernel.accessAllowed ? 'block' : 'none';\n",
              "\n",
              "        async function convertToInteractive(key) {\n",
              "          const element = document.querySelector('#df-dddc50da-98b4-4d64-b277-7aac04daa755');\n",
              "          const dataTable =\n",
              "            await google.colab.kernel.invokeFunction('convertToInteractive',\n",
              "                                                     [key], {});\n",
              "          if (!dataTable) return;\n",
              "\n",
              "          const docLinkHtml = 'Like what you see? Visit the ' +\n",
              "            '<a target=\"_blank\" href=https://colab.research.google.com/notebooks/data_table.ipynb>data table notebook</a>'\n",
              "            + ' to learn more about interactive tables.';\n",
              "          element.innerHTML = '';\n",
              "          dataTable['output_type'] = 'display_data';\n",
              "          await google.colab.output.renderOutput(dataTable, element);\n",
              "          const docLink = document.createElement('div');\n",
              "          docLink.innerHTML = docLinkHtml;\n",
              "          element.appendChild(docLink);\n",
              "        }\n",
              "      </script>\n",
              "    </div>\n",
              "  </div>\n",
              "  "
            ]
          },
          "metadata": {},
          "execution_count": 169
        }
      ]
    },
    {
      "cell_type": "markdown",
      "source": [
        "Для оценки качетсва будет считать процент попадания в заданный интервал (уровень выбран как половина от среднего значения) косинусного расстояния между случайными фильмами и фильмами из рекомендации для разных пользователей. Затем усредним и получим процент попадания (hit rate)"
      ],
      "metadata": {
        "id": "ff13qYfWvzA9"
      }
    },
    {
      "cell_type": "code",
      "source": [
        "def run_compare_analyze(movies_ids):\n",
        "  top_k = 15\n",
        "  cossims = []\n",
        "  for train_index, test_index in LeaveOneOut().split(movies_ids):\n",
        "    sys.stdout.flush()\n",
        "    movie_test = int(movies_ids.iloc[list(test_index)[0]])\n",
        "    movies_df_train = movies_df[~movies_df['movieId'] != movie_test]\n",
        "    movie_df_test = movies_df[movies_df['movieId'] == movie_test]\n",
        "    cossim = tf_idf_sim(movies_df_train['overview'], movie_df_test['overview'], top_k, mode='not')\n",
        "    i = 0\n",
        "    for item in cossim:\n",
        "      if item > 0.015:\n",
        "        i += 1\n",
        "    cossims.append(100 * i/len(cossim))\n",
        "  return np.mean(cossims)"
      ],
      "metadata": {
        "id": "H3wvyGRIkge4"
      },
      "execution_count": null,
      "outputs": []
    },
    {
      "cell_type": "code",
      "source": [
        "def count_hit(users, rates, test_n):\n",
        "  for i in range(0, len(users)):\n",
        "    print(f\"\\rProgress {(i+1/len(users))*100} %\",end=\"\")\n",
        "    user = users[i]\n",
        "    comp_movie_ids = data_df.query(f'userId == {user}')['movieId'][:test_n]\n",
        "    rates.append(run_compare_analyze(comp_movie_ids))\n",
        "  return np.mean(rates)"
      ],
      "metadata": {
        "id": "K4t56Y5KelQM"
      },
      "execution_count": null,
      "outputs": []
    },
    {
      "cell_type": "markdown",
      "source": [
        "Выполним для 20 пользователей с 20 фильмами каждый"
      ],
      "metadata": {
        "id": "d-N8B33_y3ak"
      }
    },
    {
      "cell_type": "code",
      "source": [
        "import random\n",
        "users = random.sample(list(top_500_users), 20)\n",
        "rates = []\n",
        "hit = count_hit(users, rates, 20)\n",
        "print('\\r', hit, '%')"
      ],
      "metadata": {
        "colab": {
          "base_uri": "https://localhost:8080/"
        },
        "id": "s45YRrx6hMws",
        "outputId": "7bc469af-a74a-4112-a8c0-1c6bbfe4c6bd"
      },
      "execution_count": null,
      "outputs": [
        {
          "output_type": "stream",
          "name": "stdout",
          "text": [
            " 70.64776031921369 %\n"
          ]
        }
      ]
    },
    {
      "cell_type": "markdown",
      "source": [
        "Как видим получили процент попадания 70, что очень неплохо. Таким образом можно составлять рекомендации по многим видам данных, тк метод весьма эффективен (при большем количестве итераций обьективность будет выше, сведения об эффективности приводятся в текущем контексте)"
      ],
      "metadata": {
        "id": "IZxypDj2wtto"
      }
    }
  ]
}